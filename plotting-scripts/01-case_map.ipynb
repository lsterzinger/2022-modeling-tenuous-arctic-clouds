{
 "cells": [
  {
   "cell_type": "code",
   "execution_count": null,
   "metadata": {},
   "outputs": [],
   "source": [
    "import matplotlib.pyplot as plt\n",
    "import cartopy.crs as ccrs\n",
    "import cartopy.feature as cfeature\n",
    "from matplotlib.transforms import offset_copy\n",
    "import numpy as np"
   ]
  },
  {
   "cell_type": "code",
   "execution_count": null,
   "metadata": {},
   "outputs": [],
   "source": [
    "import warnings\n",
    "warnings.filterwarnings(\"ignore\")"
   ]
  },
  {
   "cell_type": "code",
   "execution_count": null,
   "metadata": {},
   "outputs": [],
   "source": [
    "class Location:\n",
    "    def __init__(self, name, lat, lon):\n",
    "        self.name = name\n",
    "        self.lat = lat\n",
    "        self.lon = lon\n"
   ]
  },
  {
   "cell_type": "code",
   "execution_count": null,
   "metadata": {},
   "outputs": [],
   "source": [
    "oli = Location('OLI', 70.49525, -149.88688)\n",
    "ascos = Location('ASCOS', 87.19, -9.67)\n",
    "smt = Location(\"SMT\", 72.6, -38.5)"
   ]
  },
  {
   "cell_type": "code",
   "execution_count": null,
   "metadata": {},
   "outputs": [],
   "source": [
    "fig = plt.figure(figsize=(5,5))\n",
    "ax = plt.subplot(projection=ccrs.NorthPolarStereo(central_longitude=-100))\n",
    "ax.plot(oli.lon, oli.lat, marker='o', color='red', markersize=12, transform=ccrs.PlateCarree())\n",
    "ax.plot(ascos.lon, ascos.lat, marker='o', color='red', markersize=12, transform=ccrs.PlateCarree())\n",
    "ax.plot(smt.lon, smt.lat, marker='o', color='red', markersize=12, transform=ccrs.PlateCarree())\n",
    "\n",
    "cartopy_transform = ccrs.PlateCarree()._as_mpl_transform(ax)\n",
    "text_transform = offset_copy(cartopy_transform, units='dots', x=-15)\n",
    "\n",
    "text_kwargs = dict(verticalalignment='center', horizontalalignment='right', transform=text_transform,\n",
    "        bbox={\n",
    "            'facecolor':'aqua',\n",
    "            'alpha' : 0.8,\n",
    "            'boxstyle' : 'round'\n",
    "        })\n",
    "\n",
    "ax.text(oli.lon, oli.lat, \"OLI\", **text_kwargs)\n",
    "ax.text(ascos.lon, ascos.lat, \"ASCOS\", **text_kwargs)\n",
    "ax.text(smt.lon, smt.lat, \"SMT\", **text_kwargs)\n",
    "\n",
    "ax.set_extent([0, 360, 65, 90], crs=ccrs.PlateCarree())\n",
    "\n",
    "ax.add_feature(cfeature.COASTLINE)\n",
    "ax.add_feature(cfeature.OCEAN)\n",
    "ax.add_feature(cfeature.LAND)\n",
    "\n",
    "xticks = np.arange(-180, 181, 30)\n",
    "yticks = np.arange(70, 91, 10)\n",
    "\n",
    "ax.gridlines(xlocs=xticks, ylocs=yticks, transform=ccrs.PlateCarree(), color='k')\n",
    "\n",
    "# plt.savefig('map.png', facecolor='w')"
   ]
  },
  {
   "cell_type": "code",
   "execution_count": null,
   "metadata": {},
   "outputs": [],
   "source": []
  }
 ],
 "metadata": {
  "interpreter": {
   "hash": "3f36c9c610f041bd907fab8e02c416b30cb89f1506472dbe5cd69841f9385564"
  },
  "kernelspec": {
   "display_name": "Python 3 (ipykernel)",
   "language": "python",
   "name": "python3"
  },
  "language_info": {
   "codemirror_mode": {
    "name": "ipython",
    "version": 3
   },
   "file_extension": ".py",
   "mimetype": "text/x-python",
   "name": "python",
   "nbconvert_exporter": "python",
   "pygments_lexer": "ipython3",
   "version": "3.8.12"
  }
 },
 "nbformat": 4,
 "nbformat_minor": 4
}
