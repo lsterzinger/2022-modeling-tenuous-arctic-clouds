{
 "cells": [
  {
   "cell_type": "code",
   "execution_count": null,
   "id": "5e005994",
   "metadata": {},
   "outputs": [],
   "source": [
    "import xarray as xr\n",
    "import matplotlib.pyplot as plt\n",
    "import matplotlib.dates as mdates\n",
    "import numpy as np\n",
    "import pandas as pd"
   ]
  },
  {
   "cell_type": "code",
   "execution_count": null,
   "id": "73461136",
   "metadata": {},
   "outputs": [],
   "source": [
    "data_oli = xr.open_dataset('../data/model/oliktok.nc')"
   ]
  },
  {
   "cell_type": "code",
   "execution_count": null,
   "id": "dacc4d1e",
   "metadata": {},
   "outputs": [],
   "source": [
    "data_ascos = xr.open_dataset('../data/model/ascos.nc')"
   ]
  },
  {
   "cell_type": "code",
   "execution_count": null,
   "id": "b9207614",
   "metadata": {},
   "outputs": [],
   "source": [
    "data_greenland = xr.open_dataset('../data/model/summit.nc')"
   ]
  },
  {
   "cell_type": "code",
   "execution_count": null,
   "id": "224dc6ff",
   "metadata": {},
   "outputs": [],
   "source": [
    "rcp_oli = data_oli.RCP.load() * 1e3\n",
    "rcp_ascos = data_ascos.RCP.load() * 1e3\n",
    "rcp_greenland = data_greenland.RCP.load() * 1e3\n",
    "\n",
    "rip_oli = (data_oli.RAP + data_oli.RPP + data_oli.RSP).load() * 1e3\n",
    "rip_ascos = (data_ascos.RAP + data_ascos.RPP + data_ascos.RSP).load() * 1e3\n",
    "rip_greenland = (data_greenland.RAP + data_greenland.RPP + data_greenland.RSP).load() * 1e3\n"
   ]
  },
  {
   "cell_type": "code",
   "execution_count": null,
   "id": "7a62f74e",
   "metadata": {},
   "outputs": [],
   "source": [
    "SMALL_SIZE = 14\n",
    "MEDIUM_SIZE = 16\n",
    "BIGGER_SIZE = 18\n",
    "\n",
    "plt.rc('font', size=SMALL_SIZE)          # controls default text sizes\n",
    "plt.rc('axes', titlesize=SMALL_SIZE)     # fontsize of the axes title\n",
    "plt.rc('axes', labelsize=SMALL_SIZE)    # fontsize of the x and y labels\n",
    "plt.rc('xtick', labelsize=SMALL_SIZE)    # fontsize of the tick labels\n",
    "plt.rc('ytick', labelsize=SMALL_SIZE)    # fontsize of the tick labels\n",
    "plt.rc('legend', fontsize=12)    # legend fontsize\n",
    "plt.rc('figure', titlesize=BIGGER_SIZE)  # fontsize of the figure title"
   ]
  },
  {
   "cell_type": "code",
   "execution_count": null,
   "id": "d6b530cb",
   "metadata": {},
   "outputs": [],
   "source": [
    "from datetime import datetime, timezone\n",
    "t_oli = datetime(2017,5,12,9,tzinfo=timezone.utc)\n",
    "t_ascos = datetime(2008,8,31,6,tzinfo=timezone.utc)\n",
    "t_smt = datetime(2019,7,2,6,tzinfo=timezone.utc)\n",
    "t = [t_oli, t_ascos, t_smt]"
   ]
  },
  {
   "cell_type": "code",
   "execution_count": null,
   "id": "4b1fde30",
   "metadata": {},
   "outputs": [],
   "source": [
    "oli_lims = (datetime(2017,5,12,3), datetime(2017,5,12,18), 0, 1000)\n",
    "ascos_lims = (datetime(2008,8,31,0), datetime(2008,8,31,15), 0, 1200)\n",
    "smt_lims = (datetime(2019,7,2,0), datetime(2019,7,2,12), 0, 1700)\n"
   ]
  },
  {
   "cell_type": "code",
   "execution_count": null,
   "id": "50d18e3b",
   "metadata": {},
   "outputs": [],
   "source": [
    "fig, axs = plt.subplots(1, 3, figsize=(10,3), constrained_layout=True)\n",
    "\n",
    "plts = [[rcp_oli, rip_oli, '(a) OLI', oli_lims],\n",
    "        [rcp_ascos, rip_ascos, '(b) ASCOS', ascos_lims],\n",
    "        [rcp_greenland, rip_greenland, '(c) SMT', smt_lims]]\n",
    "\n",
    "for ax, (rcp, rip, title, lims), aero_time in zip(axs, plts, t):\n",
    "    \n",
    "    # aero_time = rcp.time[0].values + np.timedelta64(6,'h')\n",
    "    t1, t2, y1, y2 = lims\n",
    "\n",
    "    cbar = True if title == '(c) SMT' else False\n",
    "    label = True if title == '(a) OLI' else False\n",
    "    \n",
    "    cbar_kwargs = dict(label='Liquid [g kg$^{-1}$]') if title == '(c) SMT' else None\n",
    "    \n",
    "    c = rcp.where(rcp >= 0.001).plot.pcolormesh('time', 'z', ax=ax, vmin=0.01, vmax=0.5, add_colorbar=cbar, cbar_kwargs=cbar_kwargs)\n",
    "    i = rip.plot.contour('time', 'z', levels=[0.01, 0.001],colors = 'k', linestyles='dashed', ax=ax)\n",
    "\n",
    "    \n",
    "    # c.collections[0].set_label('Modeled Liq')\n",
    "    if label:\n",
    "        i.collections[0].set_label('Ice [g kg$^{-1}$]')\n",
    "    \n",
    "\n",
    "    # ob = cbh.plot(ax=ax, color='C0', label='CBH Obs')\n",
    "\n",
    "    # ax.clabel(c, c.levels, inline=True)\n",
    "    axb = ax.twiny()\n",
    "    \n",
    "    ax.set_xlim(t1, t2)\n",
    "    axb.set_xlim(t1, t2)\n",
    "    \n",
    "    time_ticks = ax.get_xticks()\n",
    "    major_tickalabels = (np.asarray(mdates.num2date(time_ticks)) - aero_time).astype('timedelta64[h]').astype(int)\n",
    "\n",
    "    axb.set_xticks(ax.get_xticks()[::2])\n",
    "    axb.set_xticklabels([i.strftime('%Hz') for i in mdates.num2date(time_ticks[::2])])\n",
    "    ax.set_xticklabels(major_tickalabels, rotation=0, horizontalalignment='center')\n",
    "\n",
    "    ax.set_ylim(y1,y2)\n",
    "    \n",
    "    ax.clabel(i, i.levels, inline=True)\n",
    "    \n",
    "    ax.set_xlabel('Hours since\\naerosol removal')\n",
    "\n",
    "    ax.legend(loc='upper right', framealpha=0.3)\n",
    "    \n",
    "    ax.axvline(aero_time, color='r', linestyle='dashed')\n",
    "    \n",
    "    # ax.set_xticks(time_ticks)\n",
    "    # ax.set_xlabel('')\n",
    "    ax.set_ylabel('')\n",
    "    ax.set_title(title)\n",
    "    \n",
    "    \n",
    "    \n",
    "\n",
    "axs[0].set_ylabel('Height [m AGL]')\n",
    "\n",
    "# plt.savefig('contours.png', facecolor='w')"
   ]
  },
  {
   "cell_type": "code",
   "execution_count": null,
   "id": "cf50d28f",
   "metadata": {},
   "outputs": [],
   "source": []
  }
 ],
 "metadata": {
  "kernelspec": {
   "display_name": "Python 3 (ipykernel)",
   "language": "python",
   "name": "python3"
  },
  "language_info": {
   "codemirror_mode": {
    "name": "ipython",
    "version": 3
   },
   "file_extension": ".py",
   "mimetype": "text/x-python",
   "name": "python",
   "nbconvert_exporter": "python",
   "pygments_lexer": "ipython3",
   "version": "3.8.12"
  }
 },
 "nbformat": 4,
 "nbformat_minor": 5
}
