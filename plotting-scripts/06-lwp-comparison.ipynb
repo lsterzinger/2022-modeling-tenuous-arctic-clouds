{
 "cells": [
  {
   "cell_type": "code",
   "execution_count": null,
   "id": "891c8752-2a18-4a6e-8488-d2e711b11c3e",
   "metadata": {},
   "outputs": [],
   "source": [
    "import xarray as xr\n",
    "import matplotlib.pyplot as plt\n",
    "import numpy as np\n",
    "from glob import glob\n",
    "import matplotlib.dates as mdates"
   ]
  },
  {
   "cell_type": "code",
   "execution_count": null,
   "id": "d752d7fe-11b5-4a25-aa80-77f2c0d39d45",
   "metadata": {},
   "outputs": [],
   "source": [
    "import matplotlib.dates as mdates"
   ]
  },
  {
   "cell_type": "code",
   "execution_count": null,
   "id": "626e8a6c-7202-41be-ae24-d271dc66810a",
   "metadata": {},
   "outputs": [],
   "source": [
    "import warnings\n",
    "warnings.filterwarnings('ignore')"
   ]
  },
  {
   "cell_type": "code",
   "execution_count": null,
   "id": "7f235613-9a36-4fcd-b7c0-06944da72ea8",
   "metadata": {},
   "outputs": [],
   "source": [
    "data_oli = xr.open_dataset('../data/model/oliktok.nc')\n",
    "data_ascos = xr.open_dataset('../data/model/ascos.nc')\n",
    "data_greenland = xr.open_dataset('../data/model/summit.nc')"
   ]
  },
  {
   "cell_type": "code",
   "execution_count": null,
   "id": "0fbc2284-fbde-4209-aad9-53cc471f0e9e",
   "metadata": {},
   "outputs": [],
   "source": [
    "oli_obs = xr.open_dataset('../data/obs/OLI/olimwrret2turnM1.c1.20170512.000002.nc')\n",
    "ascos_obs = xr.open_dataset('../data/obs/ASCOS/ascmwrlosC1.b1.20080831.000207.cdf')\n",
    "greenland_obs = xr.open_dataset('../data/obs/SMT/smtmwrlosX1.a1.20190702.011127.cdf.nc')"
   ]
  },
  {
   "cell_type": "code",
   "execution_count": null,
   "id": "744697ed-a8a6-493b-958c-37518455788a",
   "metadata": {},
   "outputs": [],
   "source": [
    "dn0 = data_oli.DN0\n",
    "lwp_oli = ((data_oli.RCP + data_oli.RDP + data_oli.RRP) * dn0).integrate('z').load() * 1e3"
   ]
  },
  {
   "cell_type": "code",
   "execution_count": null,
   "id": "1205f319-f15c-4ca5-8c3f-886007c02711",
   "metadata": {},
   "outputs": [],
   "source": [
    "dn0 = data_ascos.DN0\n",
    "lwp_ascos = ((data_ascos.RCP + data_ascos.RDP + data_ascos.RRP) * dn0).integrate('z').load() * 1e3"
   ]
  },
  {
   "cell_type": "code",
   "execution_count": null,
   "id": "8f237d48-495f-496c-9818-a6cb74dfbaf4",
   "metadata": {},
   "outputs": [],
   "source": [
    "dn0 = data_greenland.DN0\n",
    "lwp_greenland = ((data_greenland.RCP + data_greenland.RDP + data_greenland.RRP) * dn0).integrate('z').load() * 1e3"
   ]
  },
  {
   "cell_type": "code",
   "execution_count": null,
   "id": "b0940d07-1745-4f72-9a98-5bae365a8440",
   "metadata": {},
   "outputs": [],
   "source": [
    "obs_lwp_oli = oli_obs['phys_lwp']\n",
    "obs_lwp_ascos = ascos_obs['liquid']\n",
    "obs_lwp_greenland = greenland_obs['lwp'].where(greenland_obs['lwp'] != -999.0)"
   ]
  },
  {
   "cell_type": "code",
   "execution_count": null,
   "id": "6d9e980b-35e0-459e-8fc4-5bfee4a9592a",
   "metadata": {},
   "outputs": [],
   "source": [
    "from datetime import datetime, timezone\n",
    "t_oli = datetime(2017,5,12,9,tzinfo=timezone.utc)\n",
    "t_ascos = datetime(2008,8,31,6,tzinfo=timezone.utc)\n",
    "t_smt = datetime(2019,7,2,6,tzinfo=timezone.utc)\n",
    "t = [t_oli, t_ascos, t_smt]"
   ]
  },
  {
   "cell_type": "code",
   "execution_count": null,
   "id": "51bec418-0d16-435b-9400-98e29e193321",
   "metadata": {},
   "outputs": [],
   "source": [
    "SMALL_SIZE = 14\n",
    "MEDIUM_SIZE = 16\n",
    "BIGGER_SIZE = 18\n",
    "\n",
    "plt.rc('font', size=SMALL_SIZE)          # controls default text sizes\n",
    "plt.rc('axes', titlesize=SMALL_SIZE)     # fontsize of the axes title\n",
    "plt.rc('axes', labelsize=SMALL_SIZE)    # fontsize of the x and y labels\n",
    "plt.rc('xtick', labelsize=SMALL_SIZE)    # fontsize of the tick labels\n",
    "plt.rc('ytick', labelsize=SMALL_SIZE)    # fontsize of the tick labels\n",
    "plt.rc('legend', fontsize=12)    # legend fontsize\n",
    "plt.rc('figure', titlesize=BIGGER_SIZE)  # fontsize of the figure title"
   ]
  },
  {
   "cell_type": "code",
   "execution_count": null,
   "id": "fddc1674-f8e6-4611-8382-b254ff6d1a6a",
   "metadata": {},
   "outputs": [],
   "source": [
    "fig, (ax1, ax2, ax3) = plt.subplots(3,1, figsize=(10,6), constrained_layout=True)\n",
    "obs_lwp_oli.plot(ax=ax1, label='Observed')\n",
    "lwp_oli.plot(ax=ax1, label='Modeled')\n",
    "\n",
    "ticklabels = (np.asarray(mdates.num2date(ax1.get_xticks())) - t_oli).astype('timedelta64[h]').astype(int)\n",
    "\n",
    "ax1.legend(loc='upper right')\n",
    "ax1.set_title(\"a) Oliktok Pt\")\n",
    "ax1.set_xticklabels(ticklabels, rotation=0, ha='center')\n",
    "ax1b = ax1.twiny()\n",
    "ax1b.xaxis.set_major_formatter(mdates.DateFormatter('%Hz'))\n",
    "ax1.set_ylabel('LWP [$g\\ m^{-2}$]')\n",
    "ax1.axvline(lwp_oli.time[0].values + np.timedelta64(6,'h'), color='r', linestyle='dashed')\n",
    "ax1.set_xlabel(\"\")\n",
    "ax1.axhline(0, color='k')\n",
    "\n",
    "\n",
    "obs_lwp_ascos.plot(ax=ax2, label='Observed')\n",
    "lwp_ascos.plot(ax=ax2, label='Modeled')\n",
    "\n",
    "ticklabels = (np.asarray(mdates.num2date(ax2.get_xticks())) - t_ascos).astype('timedelta64[h]').astype(int)\n",
    "\n",
    "ax2.legend(loc='upper right')\n",
    "ax2.set_title(\"b) ASCOS\")\n",
    "ax2.set_xticklabels(ticklabels, rotation=0, ha='center')\n",
    "ax2b = ax2.twiny()\n",
    "ax2b.xaxis.set_major_formatter(mdates.DateFormatter('%Hz'))\n",
    "ax2.set_ylabel('LWP [$g\\ m^{-2}$]')\n",
    "ax2.axvline(lwp_ascos.time[0].values + np.timedelta64(6,'h'), color='r', linestyle='dashed')\n",
    "ax2.set_xlabel(\"\")\n",
    "ax2.axhline(0, color='k')\n",
    "\n",
    "obs_lwp_greenland.plot(ax=ax3, label='Observed')\n",
    "lwp_greenland.plot(ax=ax3, label='Modeled')\n",
    "\n",
    "ticklabels = (np.asarray(mdates.num2date(ax3.get_xticks())) - t_smt).astype('timedelta64[h]').astype(int)\n",
    "\n",
    "ax3.legend(loc='upper right')\n",
    "ax3.set_title(\"c) Greenland\")\n",
    "ax3.set_xticklabels(ticklabels, rotation=0, ha='center')\n",
    "ax3b = ax3.twiny()\n",
    "ax3b.xaxis.set_major_formatter(mdates.DateFormatter('%Hz'))\n",
    "ax3.set_ylabel('LWP [$g\\ m^{-2}$]')\n",
    "ax3.axvline(lwp_greenland.time[0].values + np.timedelta64(6,'h'), color='r', linestyle='dashed')\n",
    "ax3.set_xlabel(\"\")\n",
    "ax3.axhline(0, color='k')\n",
    "\n",
    "# plt.savefig('lwp_combined.pdf', facecolor='w')"
   ]
  },
  {
   "cell_type": "code",
   "execution_count": null,
   "id": "aa3a4b14-b748-4ad6-85f3-cedcd2fea11e",
   "metadata": {},
   "outputs": [],
   "source": []
  },
  {
   "cell_type": "code",
   "execution_count": null,
   "id": "224812cd-d316-4d71-9b7a-9b6cdb789eef",
   "metadata": {},
   "outputs": [],
   "source": [
    "oli_t1 = np.datetime64(lwp_oli.time[0].values + np.timedelta64(5, 'h'))\n",
    "oli_t2 = oli_t1 + np.timedelta64(9, 'h')\n",
    "\n",
    "fig, (ax1, ax2, ax3) = plt.subplots(3,1, figsize=(6,5), constrained_layout=True)\n",
    "obs_lwp_oli.plot(ax=ax1, label='Observed')\n",
    "lwp_oli.plot(ax=ax1, label='Modeled')\n",
    "ax1.set_xlim(oli_t1, oli_t2)\n",
    "\n",
    "ticklabels = (np.asarray(mdates.num2date(ax1.get_xticks())) - t_oli).astype('timedelta64[h]').astype(int)\n",
    "\n",
    "ax1.legend(loc='upper right')\n",
    "ax1.set_title(\"a) OLI\")\n",
    "ax1.set_xticklabels([\"\"], rotation=0, ha='center')\n",
    "ax1b = ax1.twiny()\n",
    "ax1b.set_xlim(oli_t1, oli_t2)\n",
    "ax1b.xaxis.set_major_formatter(mdates.DateFormatter('%Hz'))\n",
    "# ax1b.set_xlabel(\"Time [UTC]\")\n",
    "ax1.set_ylabel('LWP [$g\\ m^{-2}$]')\n",
    "ax1.axvline(lwp_oli.time[0].values + np.timedelta64(6,'h'), color='r', linestyle='dashed')\n",
    "ax1.set_xlabel(\"\")\n",
    "ax1.axhline(0, color='k')\n",
    "# ax1.set_xlabel(\"Hours since aerosol removal\")\n",
    "\n",
    "ascos_t1 = np.datetime64(lwp_ascos.time[0].values + np.timedelta64(5, 'h'))\n",
    "ascos_t2 = ascos_t1 + np.timedelta64(9, 'h')\n",
    "\n",
    "obs_lwp_ascos.plot(ax=ax2, label='Observed')\n",
    "lwp_ascos.plot(ax=ax2, label='Modeled')\n",
    "ax2.set_xlim(ascos_t1, ascos_t2)\n",
    "ticklabels = (np.asarray(mdates.num2date(ax2.get_xticks())) - t_ascos).astype('timedelta64[h]').astype(int)\n",
    "\n",
    "ax2.legend(loc='upper right')\n",
    "ax2.set_title(\"b) ASCOS\")\n",
    "ax2.set_xticklabels([\"\"], rotation=0, ha='center')\n",
    "ax2b = ax2.twiny()\n",
    "ax2b.set_xlim(ascos_t1, ascos_t2)\n",
    "ax2b.xaxis.set_major_formatter(mdates.DateFormatter('%Hz'))\n",
    "# ax2b.set_xticklabels([\"\"])\n",
    "ax2.set_ylabel('LWP [$g\\ m^{-2}$]')\n",
    "ax2.axvline(lwp_ascos.time[0].values + np.timedelta64(6,'h'), color='r', linestyle='dashed')\n",
    "ax2.set_xlabel(\"\")\n",
    "ax2.axhline(0, color='k')\n",
    "# ax2.set_xlabel(\"Hours since aerosol removal\")\n",
    "\n",
    "greenland_t1 = np.datetime64(lwp_greenland.time[0].values + np.timedelta64(5, 'h'))\n",
    "greenland_t2 = greenland_t1 + np.timedelta64(9, 'h')\n",
    "\n",
    "obs_lwp_greenland.plot(ax=ax3, label='Observed')\n",
    "lwp_greenland.plot(ax=ax3, label='Modeled')\n",
    "ax3b = ax3.twiny()\n",
    "ax3b.xaxis.set_major_formatter(mdates.DateFormatter('%Hz'))\n",
    "\n",
    "ax3.set_xlim(greenland_t1, greenland_t2)\n",
    "ax3b.set_xlim(greenland_t1, greenland_t2)\n",
    "ticklabels = (np.asarray(mdates.num2date(ax3.get_xticks())) - t_smt).astype('timedelta64[h]').astype(int)\n",
    "\n",
    "ax3.legend(loc='upper right')\n",
    "ax3.set_title(\"c) SMT\")\n",
    "ax3.set_xticklabels(ticklabels, rotation=0, ha='center')\n",
    "# ax3b.set_xticklabels([\"\"])\n",
    "ax3.set_ylabel('LWP [$g\\ m^{-2}$]')\n",
    "ax3.axvline(lwp_greenland.time[0].values + np.timedelta64(6,'h'), color='r', linestyle='dashed')\n",
    "ax3.set_xlabel(\"\")\n",
    "ax3.axhline(0, color='k')\n",
    "ax3.set_xlabel(\"Hours since aerosol removal\")\n",
    "\n",
    "\n",
    "# plt.savefig('lwp_xlim_combined.pdf', facecolor='w')"
   ]
  },
  {
   "cell_type": "code",
   "execution_count": null,
   "id": "73e71e1e-1d7b-4260-a4c7-0fd4e7e0c487",
   "metadata": {},
   "outputs": [],
   "source": []
  }
 ],
 "metadata": {
  "kernelspec": {
   "display_name": "Python 3 (ipykernel)",
   "language": "python",
   "name": "python3"
  },
  "language_info": {
   "codemirror_mode": {
    "name": "ipython",
    "version": 3
   },
   "file_extension": ".py",
   "mimetype": "text/x-python",
   "name": "python",
   "nbconvert_exporter": "python",
   "pygments_lexer": "ipython3",
   "version": "3.8.12"
  }
 },
 "nbformat": 4,
 "nbformat_minor": 5
}
