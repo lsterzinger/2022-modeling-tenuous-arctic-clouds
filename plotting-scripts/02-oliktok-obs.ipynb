{
 "cells": [
  {
   "cell_type": "code",
   "execution_count": null,
   "id": "f4fc8c84-bb5c-4818-9636-6448d847050b",
   "metadata": {},
   "outputs": [],
   "source": [
    "import matplotlib.pyplot as plt\n",
    "from matplotlib.gridspec import GridSpec\n",
    "import matplotlib.dates as mdates\n",
    "import xarray as xr\n",
    "import numpy as np\n",
    "from metpy.calc import potential_temperature\n",
    "from metpy.units import units\n",
    "import pandas as pd\n",
    "from netCDF4 import Dataset"
   ]
  },
  {
   "cell_type": "code",
   "execution_count": null,
   "id": "a703ec57-7769-4979-a5e3-a4664a67ce60",
   "metadata": {},
   "outputs": [],
   "source": [
    "import cartopy.crs as ccrs\n",
    "import cartopy.feature as cfeature\n",
    "from matplotlib.transforms import offset_copy\n",
    "from matplotlib.offsetbox import AnchoredText"
   ]
  },
  {
   "cell_type": "code",
   "execution_count": null,
   "id": "0b5a6f98",
   "metadata": {},
   "outputs": [],
   "source": [
    "import warnings\n",
    "warnings.filterwarnings(\"ignore\")"
   ]
  },
  {
   "cell_type": "code",
   "execution_count": null,
   "id": "393d06a8-b28f-4f2f-af6b-a55af0cb15e9",
   "metadata": {},
   "outputs": [],
   "source": [
    "SMALL_SIZE = 14\n",
    "MEDIUM_SIZE = 16\n",
    "BIGGER_SIZE = 18\n",
    "\n",
    "plt.rc('font', size=SMALL_SIZE)          # controls default text sizes\n",
    "plt.rc('axes', titlesize=SMALL_SIZE)     # fontsize of the axes title\n",
    "plt.rc('axes', labelsize=SMALL_SIZE)    # fontsize of the x and y labels\n",
    "plt.rc('xtick', labelsize=SMALL_SIZE)    # fontsize of the tick labels\n",
    "plt.rc('ytick', labelsize=SMALL_SIZE)    # fontsize of the tick labels\n",
    "plt.rc('legend', fontsize=SMALL_SIZE)    # legend fontsize\n",
    "# plt.rc('colorbar', fontsize=12)\n",
    "plt.rc('figure', titlesize=BIGGER_SIZE)  # fontsize of the figure title"
   ]
  },
  {
   "cell_type": "markdown",
   "id": "c4c6df83-b5db-4d6c-9d65-b5d419a2c223",
   "metadata": {},
   "source": [
    "# ObsData "
   ]
  },
  {
   "cell_type": "code",
   "execution_count": null,
   "id": "a73c7546-a68c-4eaf-a19a-3fd1cd52daae",
   "metadata": {},
   "outputs": [],
   "source": [
    "oli_ccn_data = xr.open_mfdataset(\"../data/obs/OLI/oliaoscpcuM1.*.nc\")\n",
    "oli_rad = xr.open_mfdataset('../data/obs/OLI/olikazrgeM1.*.nc')[\"reflectivity\"]\n",
    "oli_snd = xr.open_dataset(\"../data/obs/OLI/olisondewnpnM1.b1.20170511.232900.cdf\")\n",
    "oli_tht = potential_temperature(oli_snd.pres * units[\"hPa\"], oli_snd.tdry * units.degC)\n",
    "oli_snd_hgt = oli_snd.alt\n",
    "oli_rh = oli_snd.rh"
   ]
  },
  {
   "cell_type": "code",
   "execution_count": null,
   "id": "0fbc24de-4eee-4d73-ae71-32622a61c4a8",
   "metadata": {},
   "outputs": [],
   "source": [
    "oli_model_theta = xr.open_dataset('../data/model/oliktok.nc').isel(time=0)['THETA']\n",
    "oli_model_heights = oli_model_theta.z.values"
   ]
  },
  {
   "cell_type": "markdown",
   "id": "1c48e085-679b-407e-aac2-72c976af70d8",
   "metadata": {},
   "source": [
    "aerosol data is very dirty, so let's filter out everything > 1000 1/cm3 and resample to 1-minute averages"
   ]
  },
  {
   "cell_type": "code",
   "execution_count": null,
   "id": "9151e486-99ac-4d47-a623-3fb753b46a33",
   "metadata": {},
   "outputs": [],
   "source": [
    "oli_ccn = oli_ccn_data.concentration.where(oli_ccn_data.qc_concentration ==0).where(oli_ccn_data.concentration < 1000).resample(time='1T').mean()"
   ]
  },
  {
   "cell_type": "code",
   "execution_count": null,
   "id": "6b171f8f",
   "metadata": {},
   "outputs": [],
   "source": [
    "oli_snd"
   ]
  },
  {
   "cell_type": "code",
   "execution_count": null,
   "id": "0c5add8b-1296-4fad-bfcf-b8b65adbc77b",
   "metadata": {},
   "outputs": [],
   "source": [
    "fig = plt.figure()\n",
    "oli_ccn.plot(yscale='log')\n",
    "plt.axhline(10)"
   ]
  },
  {
   "cell_type": "markdown",
   "id": "394c91de-a566-433c-b281-4007a1a90052",
   "metadata": {},
   "source": [
    "# Reanalysis Data"
   ]
  },
  {
   "cell_type": "code",
   "execution_count": null,
   "id": "7d0044a2-7d13-48e2-b5ac-9739ac07ccd5",
   "metadata": {
    "tags": []
   },
   "outputs": [],
   "source": [
    "class Location:\n",
    "    def __init__(self, name, lat, lon):\n",
    "        self.name = name\n",
    "        self.lat = lat\n",
    "        self.lon = lon\n"
   ]
  },
  {
   "cell_type": "code",
   "execution_count": null,
   "id": "2406c96b-af0c-4f85-bfb6-e1f39f03e64c",
   "metadata": {},
   "outputs": [],
   "source": [
    "loc = Location('OLI', 70.49525, -149.88688)"
   ]
  },
  {
   "cell_type": "code",
   "execution_count": null,
   "id": "5f4dde4c-af6a-41cc-86bc-6b2d0320d613",
   "metadata": {},
   "outputs": [],
   "source": [
    "centlat, centlon = loc.lat, loc.lon\n",
    "lat1, lat2 = centlat - 20, centlat + 10\n",
    "lon1, lon2 = centlon + 360 -35, centlon + 360 + 35"
   ]
  },
  {
   "cell_type": "code",
   "execution_count": null,
   "id": "7573e03a-d303-4503-961f-fa1f49ae147e",
   "metadata": {},
   "outputs": [],
   "source": [
    "data_mslp = xr.open_dataset('../data/obs/OLI/e5.oper.an.sfc.128_151_msl.ll025sc.2017050100_2017053123.nc')\n",
    "data_temp = xr.open_dataset('../data/obs/OLI/e5.oper.an.sfc.128_167_2t.ll025sc.2017050100_2017053123.nc')"
   ]
  },
  {
   "cell_type": "code",
   "execution_count": null,
   "id": "89c27d10-4d6a-47c9-ad6e-29565a53ad2b",
   "metadata": {},
   "outputs": [],
   "source": [
    "# subset = dict(latitude=slice(lat2, lat1), longitude=slice(lon1, lon2), time=np.datetime64('2017-05-12T09:00:00'))\n",
    "subset = dict(time=np.datetime64('2017-05-12T09:00:00'))\n"
   ]
  },
  {
   "cell_type": "code",
   "execution_count": null,
   "id": "4d4b4e67-24c1-4a61-9591-6d2766f97a3b",
   "metadata": {},
   "outputs": [],
   "source": [
    "lon1,lon2"
   ]
  },
  {
   "cell_type": "code",
   "execution_count": null,
   "id": "42807c1c-1e27-4191-a8e9-9eef37cbc3a8",
   "metadata": {},
   "outputs": [],
   "source": [
    "mslp = data_mslp.MSL.sel(**subset)/ 100\n",
    "temp = data_temp.VAR_2T.sel(**subset) "
   ]
  },
  {
   "cell_type": "code",
   "execution_count": null,
   "id": "b057e35a-6829-4c86-bae0-b7f36991231e",
   "metadata": {},
   "outputs": [],
   "source": [
    "plev = np.arange(700, 1100, 2)"
   ]
  },
  {
   "cell_type": "code",
   "execution_count": null,
   "id": "5e1bf9ba-0d5e-411a-b66e-df93f7fd84ad",
   "metadata": {},
   "outputs": [],
   "source": [
    "stime = pd.to_datetime(mslp.time.values).strftime('%Y-%m-%d %Hz')"
   ]
  },
  {
   "cell_type": "markdown",
   "id": "483df7bc-3e27-4830-b971-ecfcc82b8e1a",
   "metadata": {},
   "source": [
    "# Plot"
   ]
  },
  {
   "cell_type": "code",
   "execution_count": null,
   "id": "0bd1a9f3-95a6-4084-8912-74c57e675c07",
   "metadata": {},
   "outputs": [],
   "source": [
    "plt.rcParams['figure.constrained_layout.use'] = True"
   ]
  },
  {
   "cell_type": "code",
   "execution_count": null,
   "id": "21de70c2",
   "metadata": {},
   "outputs": [],
   "source": [
    "u,v,walt = oli_snd.u_wind[::5] * 1.9438445, oli_snd.v_wind[::5] * 1.9438445, oli_snd.alt[::5]"
   ]
  },
  {
   "cell_type": "code",
   "execution_count": null,
   "id": "10b2e1d1-7bf9-42e2-ac9a-aff81057309c",
   "metadata": {},
   "outputs": [],
   "source": [
    "from mpl_toolkits.axes_grid1 import make_axes_locatable"
   ]
  },
  {
   "cell_type": "code",
   "execution_count": null,
   "id": "f5c083e5-78cc-4953-8c78-d071e44daa15",
   "metadata": {},
   "outputs": [],
   "source": [
    "fig = plt.figure(figsize=(12,6))\n",
    "\n",
    "t1 = np.datetime64(\"2017-05-11T22:00:00\")\n",
    "t2 = np.datetime64(\"2017-05-13T00:00:00\")\n",
    "\n",
    "snd_time = oli_snd.time[0].values\n",
    "\n",
    "gs = GridSpec(2, 4, figure=fig, height_ratios=[3,1], width_ratios=[1,0.5,4,4])\n",
    "\n",
    "ax1 = fig.add_subplot(gs[0,0])\n",
    "axl = fig.add_subplot(gs[1,0])\n",
    "wind_ax = fig.add_subplot(gs[0,1])\n",
    "ax2 = fig.add_subplot(gs[0,2])\n",
    "ax3 = fig.add_subplot(gs[1,2])\n",
    "ax4 = fig.add_subplot(gs[:,3], projection=ccrs.LambertConformal(central_latitude=centlat, central_longitude=centlon))\n",
    "\n",
    "p1 = ax1.plot(oli_tht, oli_snd_hgt, label='$\\\\theta$')\n",
    "p3 = ax1.plot(oli_model_theta, oli_model_heights, color='C0', linestyle='dashed', label='$\\\\theta_{init}$')\n",
    "ax1.set_ylim(0, 1250)\n",
    "ax1.set_xlim(265, 280)\n",
    "ax1.set_xlabel(\"$\\\\theta$ [K]\")\n",
    "ax1.set_ylabel('Height AGL [m]')\n",
    "# ax1.set_title(\"Sounding\")\n",
    "# ax1.sharey(ax2)\n",
    "axrh = ax1.twiny()\n",
    "p2 = axrh.plot(oli_rh, oli_snd_hgt, color='g', label='RH')\n",
    "axrh.set_xlabel(\"RH [%]\")\n",
    "axrh.set_xticks([0,100])\n",
    "ax1.set_title(\"a) Sounding\")\n",
    "\n",
    "labs = [l.get_label() for l in (p1+p3+p2)]\n",
    "axl.legend(p1+p3+p2, labs, loc='upper center')\n",
    "axl.spines['top'].set_visible(False)\n",
    "axl.spines['right'].set_visible(False)\n",
    "axl.spines['bottom'].set_visible(False)\n",
    "axl.spines['left'].set_visible(False)\n",
    "axl.get_xaxis().set_ticks([])\n",
    "axl.get_yaxis().set_ticks([])\n",
    "\n",
    "# ax1.barbs(np.repeat(np.mean(ax1.get_xlim()), len(u)), walt, u, v, length=4.5)\n",
    "\n",
    "# wind barbs\n",
    "# divider = make_axes_locatable(ax1)\n",
    "# wind_ax = divider.new_horizontal(size='50%', pad=2)\n",
    "wind_ax.sharey(ax1)\n",
    "wind_ax.get_xaxis().set_visible(False)\n",
    "wind_ax.get_yaxis().set_visible(False)\n",
    "fig.add_axes(wind_ax)\n",
    "wind_ax.barbs(np.repeat(0, len(u)), walt, u, v, length=6)\n",
    "wind_ax.set_xlim(-0.5,4)\n",
    "\n",
    "# rad = ax2.pcolormesh(oli_rad.time, oli_rad.range, oli_rad.T, shading=\"auto\", vmin=-60, vmax=10)\n",
    "oli_rad.sel(time=slice(t1,t2)).where(oli_rad.sel(time=slice(t1,t2)) >=-40).plot.pcolormesh(\n",
    "    x='time', y='range', ax=ax2, shading='auto', vmin=-40, vmax=10, cbar_kwargs=dict(label=\"dBz\"),\n",
    "    add_labels=False\n",
    ")\n",
    "ax2.set_ylim(0, 1250)\n",
    "# plt.colorbar(rad, ax=ax2, label='dBz')\n",
    "ax2.set_title(\"b) KAZR\")\n",
    "# ax2.set_ylabel(\"Height [m]\")\n",
    "# ax2.set_xticklabels(ax2.get_xticks(), rotation=0, ha='center')\n",
    "# ax2.xaxis.set_major_formatter(mdates.DateFormatter(\"%Hz\"))\n",
    "ax2.set_xlim(t1, t2)\n",
    "ax2.axvline(snd_time, color='k', linestyle='dashed')\n",
    "ax2.set_ylabel(\"\")\n",
    "\n",
    "ax2.set_xticklabels([\"\"])\n",
    "ax2.set_yticklabels([\"\"])\n",
    "\n",
    "# ax3.sharex(ax2)\n",
    "# ax1.sharey(ax2)\n",
    "\n",
    "\n",
    "ax3.set_xlim(t1, t2)\n",
    "ax3.plot(oli_ccn.time, oli_ccn)\n",
    "# ax3.yaxis.set_label_position(\"right\")\n",
    "# ax3.yaxis.tick_right()\n",
    "ax3.set_title(\"c) Sfc Aerosol Concentration\")\n",
    "ax3.set_yticks([10, 1e2, 1e3, 1e4])\n",
    "ax3.xaxis.set_major_formatter(mdates.DateFormatter('%H'))\n",
    "ax3.set_xlabel(\"Hour (UTC)\")\n",
    "# ax3.set_xticklabels(ax3.get_xticklabels(),rotation=45, horizontalalignment='right')\n",
    "plt.suptitle(\"Oliktok Pt 2017-05-12\")\n",
    "ax3.axhline(10, color='k')\n",
    "ax3.set_ylabel('Number [cm$^{-3}$]')\n",
    "ax3.axvline(snd_time, color='k', linestyle='dashed')\n",
    "ax3.set_yscale('log')\n",
    "# plt.tight_layout()\n",
    "\n",
    "\n",
    "ax4.set_extent((lon1, lon2, lat1, lat2))\n",
    "t = ax4.pcolormesh(temp.longitude, temp.latitude, temp, transform=ccrs.PlateCarree(), cmap='jet', vmin=250, vmax=290)\n",
    "p = ax4.contour(mslp.longitude, mslp.latitude, mslp, transform=ccrs.PlateCarree(), colors='k', levels=plev)\n",
    "\n",
    "ax4.clabel(p, inline=True, manual=False, zorder=1)\n",
    "\n",
    "cartopy_transform = ccrs.PlateCarree()._as_mpl_transform(ax4)\n",
    "text_transform = offset_copy(cartopy_transform, units='inches', x=-0.25, fig=fig)\n",
    "                             \n",
    "text_kwargs = dict(verticalalignment='center', horizontalalignment='right', transform=text_transform,\n",
    "        bbox={\n",
    "            'facecolor':'aqua',\n",
    "            'alpha' : 1,\n",
    "            'boxstyle' : 'round',\n",
    "            'zorder':10\n",
    "        }\n",
    ")\n",
    "\n",
    "ax4.plot(loc.lon, loc.lat, marker='o', color='red', markersize=12, transform=ccrs.PlateCarree())\n",
    "ax4.text(loc.lon, loc.lat, loc.name, **text_kwargs)\n",
    "\n",
    "ax4.coastlines(color='k', linewidth=2)\n",
    "ax4.set_title(f\"d) {loc.name} Synoptic Overview\\n{stime}\")\n",
    "gl = ax4.gridlines(draw_labels=True, dms=True, x_inline=False, y_inline=False)\n",
    "gl.top_labels=False\n",
    "gl.right_labels=False\n",
    "\n",
    "\n",
    "text = AnchoredText('© Natural Earth; license: public domain',\n",
    "                    loc=4, prop={'size': 10}, frameon=True)\n",
    "ax4.add_artist(text)\n",
    "\n",
    "plt.draw()\n",
    "posn = ax4.get_position()\n",
    "cbar_ax = fig.add_axes([0, 0, 0.1, 0.1])\n",
    "cbar_ax.set_position([posn.x0 + posn.width + 0.01, posn.y0, 0.01, posn.height])\n",
    "\n",
    "plt.colorbar(t, label='Temperature [K]', cax=cbar_ax)\n",
    "\n",
    "plt.savefig(\"fig02.png\", facecolor=\"w\", dpi=300)"
   ]
  },
  {
   "cell_type": "code",
   "execution_count": null,
   "id": "d38e2ee8-2aed-42fe-a1c3-746340235734",
   "metadata": {},
   "outputs": [],
   "source": []
  }
 ],
 "metadata": {
  "kernelspec": {
   "display_name": "arctic-clouds-plots",
   "language": "python",
   "name": "arctic-clouds-plots"
  },
  "language_info": {
   "codemirror_mode": {
    "name": "ipython",
    "version": 3
   },
   "file_extension": ".py",
   "mimetype": "text/x-python",
   "name": "python",
   "nbconvert_exporter": "python",
   "pygments_lexer": "ipython3",
   "version": "3.10.2"
  }
 },
 "nbformat": 4,
 "nbformat_minor": 5
}
