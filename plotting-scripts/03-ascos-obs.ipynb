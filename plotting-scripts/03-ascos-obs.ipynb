{
 "cells": [
  {
   "cell_type": "code",
   "execution_count": null,
   "id": "af2ea124",
   "metadata": {
    "tags": []
   },
   "outputs": [],
   "source": [
    "import matplotlib.pyplot as plt\n",
    "from matplotlib.gridspec import GridSpec\n",
    "import matplotlib.dates as mdates\n",
    "import xarray as xr\n",
    "import numpy as np\n",
    "import pandas as pd\n",
    "import cartopy.crs as ccrs\n",
    "from matplotlib.transforms import offset_copy\n",
    "from matplotlib.offsetbox import AnchoredText"
   ]
  },
  {
   "cell_type": "code",
   "execution_count": null,
   "id": "77f90319",
   "metadata": {},
   "outputs": [],
   "source": [
    "import warnings\n",
    "warnings.filterwarnings('ignore')"
   ]
  },
  {
   "cell_type": "code",
   "execution_count": null,
   "id": "a28817da",
   "metadata": {},
   "outputs": [],
   "source": [
    "SMALL_SIZE = 14\n",
    "MEDIUM_SIZE = 16\n",
    "BIGGER_SIZE = 18\n",
    "\n",
    "plt.rc('font', size=SMALL_SIZE)          # controls default text sizes\n",
    "plt.rc('axes', titlesize=SMALL_SIZE)     # fontsize of the axes title\n",
    "plt.rc('axes', labelsize=SMALL_SIZE)    # fontsize of the x and y labels\n",
    "plt.rc('xtick', labelsize=SMALL_SIZE)    # fontsize of the tick labels\n",
    "plt.rc('ytick', labelsize=SMALL_SIZE)    # fontsize of the tick labels\n",
    "plt.rc('legend', fontsize=SMALL_SIZE)    # legend fontsize\n",
    "# plt.rc('colorbar', fontsize=12)\n",
    "plt.rc('figure', titlesize=BIGGER_SIZE)  # fontsize of the figure title"
   ]
  },
  {
   "cell_type": "markdown",
   "id": "bf04b325",
   "metadata": {
    "tags": []
   },
   "source": [
    "# Obs data"
   ]
  },
  {
   "cell_type": "code",
   "execution_count": null,
   "id": "4abaf771",
   "metadata": {},
   "outputs": [],
   "source": [
    "ascos_ccn = pd.read_csv(\"../data/obs/ASCOS/ascos_aerosol_N.csv\", index_col=0, parse_dates=True)\n",
    "ascos_rad = xr.open_dataset(\"../data/obs/ASCOS/ascos_mmcrmerge.C1.c1.20080831.000000.nc\")\n",
    "ascos_snd = pd.read_csv('../data/obs/ASCOS/Radiosonde_2008_08_31_0535.csv')\n",
    "ascos_rad['nheights'] = ascos_rad['height']"
   ]
  },
  {
   "cell_type": "markdown",
   "id": "98833372",
   "metadata": {},
   "source": [
    "# Reanalysis data"
   ]
  },
  {
   "cell_type": "code",
   "execution_count": null,
   "id": "32b1503f",
   "metadata": {},
   "outputs": [],
   "source": [
    "class Location:\n",
    "    def __init__(self, name, lat, lon):\n",
    "        self.name = name\n",
    "        self.lat = lat\n",
    "        self.lon = lon\n"
   ]
  },
  {
   "cell_type": "code",
   "execution_count": null,
   "id": "a6ea9dfd",
   "metadata": {},
   "outputs": [],
   "source": [
    "loc = Location('ASCOS', 87.19, -9.67)"
   ]
  },
  {
   "cell_type": "code",
   "execution_count": null,
   "id": "f0e8d89b",
   "metadata": {},
   "outputs": [],
   "source": [
    "centlat, centlon = loc.lat, loc.lon\n",
    "lat1, lat2 = centlat - 40, 90\n",
    "lon1, lon2 = centlon + 360 -50, centlon + 360 + 50"
   ]
  },
  {
   "cell_type": "code",
   "execution_count": null,
   "id": "d171d6fc",
   "metadata": {},
   "outputs": [],
   "source": [
    "data_mslp = xr.open_dataset('../data/obs/ASCOS/e5.oper.an.sfc.128_151_msl.ll025sc.2008080100_2008083123.nc')\n",
    "data_temp = xr.open_dataset('../data/obs/ASCOS/e5.oper.an.sfc.128_167_2t.ll025sc.2008080100_2008083123.nc')"
   ]
  },
  {
   "cell_type": "code",
   "execution_count": null,
   "id": "b9d6dfd2",
   "metadata": {},
   "outputs": [],
   "source": [
    "# subset = dict(latitude=slice(lat2, lat1), longitude=slice(lon1, lon2), time=np.datetime64('2017-05-12T09:00:00'))\n",
    "subset = dict(time=np.datetime64('2008-08-31T06:00:00'))\n"
   ]
  },
  {
   "cell_type": "code",
   "execution_count": null,
   "id": "1ca83fff",
   "metadata": {},
   "outputs": [],
   "source": [
    "mslp = data_mslp.MSL.sel(**subset)/ 100\n",
    "temp = data_temp.VAR_2T.sel(**subset) "
   ]
  },
  {
   "cell_type": "code",
   "execution_count": null,
   "id": "8335e199",
   "metadata": {},
   "outputs": [],
   "source": [
    "plev = np.arange(700, 1100, 4)"
   ]
  },
  {
   "cell_type": "code",
   "execution_count": null,
   "id": "b2f0c3d9",
   "metadata": {},
   "outputs": [],
   "source": [
    "stime = pd.to_datetime(mslp.time.values).strftime('%Y-%m-%d %Hz')"
   ]
  },
  {
   "cell_type": "markdown",
   "id": "564ca549",
   "metadata": {},
   "source": [
    "# Plot "
   ]
  },
  {
   "cell_type": "code",
   "execution_count": null,
   "id": "1d228661",
   "metadata": {},
   "outputs": [],
   "source": [
    "fig = plt.figure(constrained_layout=True, figsize=(12,6))\n",
    "\n",
    "t1 = np.datetime64(\"2008-08-31T00:00:00\")\n",
    "t2 = np.datetime64(\"2008-09-01T00:00:00\")\n",
    "snd_time = np.datetime64('2008-08-31T05:35:00')\n",
    "\n",
    "gs = GridSpec(2, 3, figure=fig, height_ratios=[3,1], width_ratios=[1,4,4])\n",
    "\n",
    "ax1 = fig.add_subplot(gs[0,0])\n",
    "axl = fig.add_subplot(gs[1,0])\n",
    "ax2 = fig.add_subplot(gs[0,1])\n",
    "ax3 = fig.add_subplot(gs[1,1])\n",
    "ax4 = fig.add_subplot(gs[:,2], projection=ccrs.LambertConformal(central_latitude=centlat, central_longitude=centlon))\n",
    "\n",
    "theta = pd.to_numeric(ascos_snd.ThetaC[0:-2] + 273.15)\n",
    "alt = pd.to_numeric(ascos_snd.Height[0:-2])\n",
    "\n",
    "p1 = ax1.plot(theta, alt, label='$\\\\theta$')\n",
    "# p3 = ax1.plot(ascos_model_theta, ascos_model_heights, color='C0', linestyle='dashed')\n",
    "\n",
    "ax1.set_ylim(0, 1250)\n",
    "ax1.set_xlim(265, 280)\n",
    "ax1.set_xlabel(\"$\\\\theta$ [K]\")\n",
    "ax1.set_ylabel('Height AGL [m]')\n",
    "ax1.set_title(\"a) Sounding\")\n",
    "\n",
    "rh = pd.to_numeric(ascos_snd.Rhl[0:-2])\n",
    "\n",
    "axrh = ax1.twiny()\n",
    "p2 = axrh.plot(rh, alt, label='RH', color='g')\n",
    "axrh.set_xlabel('RH [%]')\n",
    "axrh.set_xticks([0,100])\n",
    "\n",
    "lns = p1+p2\n",
    "labs = [l.get_label() for l in lns]\n",
    "axl.legend(lns, labs, loc='upper center')\n",
    "axl.spines['top'].set_visible(False)\n",
    "axl.spines['right'].set_visible(False)\n",
    "axl.spines['bottom'].set_visible(False)\n",
    "axl.spines['left'].set_visible(False)\n",
    "axl.get_xaxis().set_ticks([])\n",
    "axl.get_yaxis().set_ticks([])\n",
    "\n",
    "\n",
    "\n",
    "(ascos_rad.Reflectivity/100).where(ascos_rad.Reflectivity/100 >= -40).plot.pcolormesh(\n",
    "    x='time', y='nheights', ax=ax2, vmin=-40, vmax = 10, cbar_kwargs=dict(label='dBz'),\n",
    "    add_labels=False\n",
    ")\n",
    "# rad = ax2.pcolormesh(ascos_rad.time, ascos_rad_z, ascos_rad.T, shading=\"auto\", vmin=-60, vmax=10)\n",
    "ax2.set_ylim(0, 1250)\n",
    "ax2.set_title(\"b) MMCR\")\n",
    "# ax2.set_ylabel(\"Height [m]\")\n",
    "# ax2.set_xticklabels(ax2.get_xticks(), rotation=0, ha='center')\n",
    "ax2.axvline(snd_time, color='k', linestyle='dashed')\n",
    "# ax2.sharex(ax3)\n",
    "ax2.set_xticklabels([\"\"])\n",
    "ax2.set_yticklabels([\"\"])\n",
    "\n",
    "# ax3.sharex(ax2)\n",
    "ax3.plot(ascos_ccn.index, ascos_ccn.N)\n",
    "ax3.set_yscale('log')\n",
    "ax3.set_xlim(t1, t2)\n",
    "ax3.set_ylim(1, 1e3)\n",
    "ax3.axhline(10, color='k')\n",
    "# ax3.set_yticks([10, 100,200])\n",
    "ax3.set_title(\"c) Sfc Aerosol Concentration\")\n",
    "# # ax3.set_xticklabels(ax3.get_xticks(), rotation=45, ha=\"right\")\n",
    "ax3.xaxis.set_major_formatter(mdates.DateFormatter('%Hz'))\n",
    "ax3.set_ylabel('cm$^{-3}$')\n",
    "ax3.axvline(snd_time, color='k', linestyle='dashed')\n",
    "\n",
    "# Synoptic plot\n",
    "cartopy_transform = ccrs.PlateCarree()._as_mpl_transform(ax4)\n",
    "text_transform = offset_copy(cartopy_transform, units='inches', x=-0.25, fig=fig)\n",
    "ax4.set_extent((lon1, lon2, lat1, lat2))\n",
    "\n",
    "t = ax4.pcolormesh(temp.longitude, temp.latitude, temp, transform=ccrs.PlateCarree(), cmap='jet', vmin=240, vmax=290)\n",
    "p = ax4.contour(mslp.longitude, mslp.latitude, mslp, transform=ccrs.PlateCarree(), colors='k', levels=plev)\n",
    "\n",
    "ax4.clabel(p, inline=True,zorder=1)\n",
    "\n",
    "gl = ax4.gridlines(draw_labels=True, dms=True, x_inline=False, y_inline=False)\n",
    "gl.top_labels=False\n",
    "gl.right_labels=False\n",
    "\n",
    "text_kwargs = dict(verticalalignment='center', horizontalalignment='right', transform=text_transform,\n",
    "        bbox={\n",
    "            'facecolor':'aqua',\n",
    "            'alpha' : 1,\n",
    "            'boxstyle' : 'round',\n",
    "            'zorder':10\n",
    "        }\n",
    ")\n",
    "ax4.plot(loc.lon, loc.lat, marker='o', color='red', markersize=12, transform=ccrs.PlateCarree())\n",
    "ax4.text(loc.lon, loc.lat, loc.name, **text_kwargs)\n",
    "\n",
    "ax4.coastlines(color='k', linewidth=2)\n",
    "\n",
    "text = AnchoredText('© Natural Earth; license: public domain',\n",
    "                    loc=4, prop={'size': 10}, frameon=True)\n",
    "ax4.add_artist(text)\n",
    "\n",
    "\n",
    "ax4.set_title(f\"d) {loc.name} Synoptic Overview\\n{stime}\")\n",
    "plt.suptitle(\"ASCOS\\n2008-08-31\")\n",
    "\n",
    "plt.draw()\n",
    "posn = ax4.get_position()\n",
    "cbar_ax = fig.add_axes([0, 0, 0.1, 0.1])\n",
    "cbar_ax.set_position([posn.x0 + posn.width + 0.01, posn.y0, 0.01, posn.height])\n",
    "\n",
    "plt.colorbar(t, label='Temperature [K]', cax=cbar_ax)\n",
    "\n",
    "\n",
    "\n",
    "# plt.tight_layout()\n",
    "\n",
    "plt.savefig(\"fig03.png\", facecolor=\"w\", dpi=300)"
   ]
  },
  {
   "cell_type": "code",
   "execution_count": null,
   "id": "ce0a78bc",
   "metadata": {},
   "outputs": [],
   "source": []
  }
 ],
 "metadata": {
  "kernelspec": {
   "display_name": "Python 3 (ipykernel)",
   "language": "python",
   "name": "python3"
  },
  "language_info": {
   "codemirror_mode": {
    "name": "ipython",
    "version": 3
   },
   "file_extension": ".py",
   "mimetype": "text/x-python",
   "name": "python",
   "nbconvert_exporter": "python",
   "pygments_lexer": "ipython3",
   "version": "3.8.12"
  }
 },
 "nbformat": 4,
 "nbformat_minor": 5
}
