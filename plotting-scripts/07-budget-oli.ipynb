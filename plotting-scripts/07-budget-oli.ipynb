{
 "cells": [
  {
   "cell_type": "code",
   "execution_count": null,
   "id": "c03c0ec9-aff6-43de-95d4-c975b2aab037",
   "metadata": {
    "tags": []
   },
   "outputs": [],
   "source": [
    "import xarray as xr\n",
    "import matplotlib.pyplot as plt\n",
    "import numpy as np\n",
    "from glob import glob\n",
    "import matplotlib.dates as mdates\n",
    "from datetime import datetime, timezone\n",
    "from ramslibs.data_tools import flist_to_times, create_xr_metadata"
   ]
  },
  {
   "cell_type": "code",
   "execution_count": null,
   "id": "7fe14d44-cf31-4fa5-bd37-a458091679d9",
   "metadata": {},
   "outputs": [],
   "source": [
    "SMALL_SIZE = 14\n",
    "MEDIUM_SIZE = 16\n",
    "BIGGER_SIZE = 18\n",
    "\n",
    "plt.rc('font', size=SMALL_SIZE)          # controls default text sizes\n",
    "plt.rc('axes', titlesize=SMALL_SIZE)     # fontsize of the axes title\n",
    "plt.rc('axes', labelsize=SMALL_SIZE)    # fontsize of the x and y labels\n",
    "plt.rc('xtick', labelsize=SMALL_SIZE)    # fontsize of the tick labels\n",
    "plt.rc('ytick', labelsize=SMALL_SIZE)    # fontsize of the tick labels\n",
    "plt.rc('legend', fontsize=10)    # legend fontsize\n",
    "# plt.rc('colorbar', fontsize=12)\n",
    "plt.rc('figure', titlesize=BIGGER_SIZE)  # fontsize of the figure title"
   ]
  },
  {
   "cell_type": "code",
   "execution_count": null,
   "id": "4869e82b-579d-4056-9cd5-b951ade3a588",
   "metadata": {},
   "outputs": [],
   "source": [
    "data = xr.open_dataset('../data/model/oliktok.nc')"
   ]
  },
  {
   "cell_type": "code",
   "execution_count": null,
   "id": "0902f07b-cabc-4029-876c-125d1f8e3898",
   "metadata": {},
   "outputs": [],
   "source": [
    "times = data.time.values - np.datetime64('2017-05-12T06:00:00')"
   ]
  },
  {
   "cell_type": "code",
   "execution_count": null,
   "id": "58720908-0c4a-4440-9cc8-c1439ff7ef3a",
   "metadata": {},
   "outputs": [],
   "source": [
    "dn0 = data.DN0.load()"
   ]
  },
  {
   "cell_type": "code",
   "execution_count": null,
   "id": "58a53250-fb66-4286-8797-76364d50849d",
   "metadata": {},
   "outputs": [],
   "source": [
    "raincond = ((data.VAPRAINT + data.VAPDRIZT) * dn0 * 1e3 / 5.0).integrate('z').load()\n",
    "cldcond = ((data.NUCCLDRT + data.VAPCLDT) * dn0 * 1e3 / 5.0).integrate('z').load()"
   ]
  },
  {
   "cell_type": "code",
   "execution_count": null,
   "id": "01c63062-aa0e-4fc6-b5d8-58192091cd74",
   "metadata": {},
   "outputs": [],
   "source": [
    "icecond = ((data.VAPICET + data.NUCICERT) * dn0 * 1e3 / 5.0).integrate('z').load()"
   ]
  },
  {
   "cell_type": "code",
   "execution_count": null,
   "id": "a86b36e4-7e1e-4360-98ed-f43ecd8f46b9",
   "metadata": {},
   "outputs": [],
   "source": [
    "melt = (data.MELTICET * dn0 * 1e3 / 5.0).integrate('z').load()"
   ]
  },
  {
   "cell_type": "code",
   "execution_count": null,
   "id": "273438de-797b-444e-9428-ab3721a0e26a",
   "metadata": {},
   "outputs": [],
   "source": [
    "freeze = ((data.INUCHOMRT + data.INUCCONTRT + data.INUCIFNRT) * dn0 * 1e3/5.0).integrate('z').load()"
   ]
  },
  {
   "cell_type": "code",
   "execution_count": null,
   "id": "a97360b7-34c9-4059-943f-aed425f798c5",
   "metadata": {},
   "outputs": [],
   "source": [
    "rime = ((data.RIMECLDT + data.RAIN2ICET) * dn0 * 1e3 / 5.0).integrate('z').load()"
   ]
  },
  {
   "cell_type": "code",
   "execution_count": null,
   "id": "139dd262-9d8b-4527-98d4-c68a1f545ac4",
   "metadata": {},
   "outputs": [],
   "source": [
    "liqsed = (data.ACCPR + data.ACCPD).diff('time').load() * 1e3 / 5.0\n",
    "icesed = (data.ACCPP + data.ACCPS + data.ACCPA + data.ACCPG + data.ACCPH).diff('time').load() * 1e3 / 5.0"
   ]
  },
  {
   "cell_type": "code",
   "execution_count": null,
   "id": "4f7517be-0f81-4508-9390-573b959b58ad",
   "metadata": {},
   "outputs": [],
   "source": [
    "radheat =  data.FTHRD[2:,:].load() * 3600"
   ]
  },
  {
   "cell_type": "code",
   "execution_count": null,
   "id": "0612f4d4-9ced-4b04-8a9e-09369995251b",
   "metadata": {},
   "outputs": [],
   "source": [
    "turb = xr.open_dataset('../data/model/oli_vert_momentum_flux.nc')['WSQUARED'][2:,:]"
   ]
  },
  {
   "cell_type": "code",
   "execution_count": null,
   "id": "5adc87f7-1d6b-4d59-9792-2b50ddc1d7d0",
   "metadata": {},
   "outputs": [],
   "source": [
    "t1 = data.time[0].values + np.timedelta64(3, 'h')\n",
    "t2 = t1 + np.timedelta64(9,'h')\n",
    "# t1 = data.time[0].values\n",
    "# t2 = data.time[-1].values"
   ]
  },
  {
   "cell_type": "code",
   "execution_count": null,
   "id": "e9fde393-99e7-4556-a108-4360214484b5",
   "metadata": {},
   "outputs": [],
   "source": [
    "liqgrow = (data.NUCCLDRT + data.VAPLIQT)[2:].load() / 5 * dn0[2:] * 1e3\n",
    "icegrow = (data.NUCICERT + data.VAPICET)[2:].load() / 5 * dn0[2:] * 1e3"
   ]
  },
  {
   "cell_type": "code",
   "execution_count": null,
   "id": "4cf0ed79-a10e-427d-941e-a6227328d81a",
   "metadata": {},
   "outputs": [],
   "source": [
    "import pandas as pd"
   ]
  },
  {
   "cell_type": "code",
   "execution_count": null,
   "id": "bc080e56-5c92-4473-a519-575c81bcd76f",
   "metadata": {},
   "outputs": [],
   "source": [
    "t = datetime(2017,5,12,9,0, tzinfo=timezone.utc)"
   ]
  },
  {
   "cell_type": "code",
   "execution_count": null,
   "id": "a6a1efa9-1dac-408c-aa2c-930e82a998ed",
   "metadata": {},
   "outputs": [],
   "source": [
    "fig, ((ax1, ax2, ax3), (ax4, ax5, ax6)) = plt.subplots(2,3, figsize=(10,6), sharex='col', \n",
    "                                                        constrained_layout=True)\n",
    "# Liquid Budget\n",
    "raincond[2:].plot(label='Rain', color='C0', ax=ax1)\n",
    "cldcond[2:].plot(label='Cloud', color='C3', ax=ax1)\n",
    "\n",
    "(-1*liqsed[2:]).plot(label='Precip', color='C1', ax=ax1)\n",
    "(-1*rime[2:]).plot(label='Riming', color='C2', ax=ax1)\n",
    "\n",
    "ax1.axhline(0, color='k')\n",
    "# ax1.axvline(data.time[0].values + np.timedelta64(6,'h'), color='red', linestyle='dashed')\n",
    "ax1.set_title(\"(a) OLI Liquid Budget\")\n",
    "ax1.set_ylabel(\"g m$^{-2}$ min$^{-1}$\")\n",
    "ax1.set_xlabel(\"\")\n",
    "ax1.legend(loc='lower left', framealpha=0.5)\n",
    "\n",
    "ax1.set_xlim(t1, t2)\n",
    "\n",
    "# Ice Budget\n",
    "icecond[2:].plot(label='Cond.', ax=ax2)\n",
    "(-1*icesed[2:]).plot(label='Precip', ax=ax2)\n",
    "(rime[2:]).plot(label='Riming', ax=ax2)\n",
    "ax2.legend(loc='lower left', framealpha=0.5)\n",
    "\n",
    "\n",
    "ax2.axhline(0, color='k')\n",
    "# ax2.axvline(data.time[0].values + np.timedelta64(6,'h'), color='red', linestyle='dashed')\n",
    "ax2.set_title(\"(b) OLI Ice Budget\")\n",
    "ax2.set_ylabel(\"g m$^{-2}$ min$^{-1}$\")\n",
    "ax2.set_xlabel(\"\")\n",
    "\n",
    "ax2.set_xlim(t1, t2)\n",
    "\n",
    "# Radiative cooling\n",
    "radheat.plot.pcolormesh('time', 'z', ax=ax3, cbar_kwargs=dict(label='K hr$^{-1}$', orientation='vertical'))\n",
    "ax3.set_xlabel(\"\")\n",
    "ax3.set_title(\"(c) OLI Radiative heating\")\n",
    "\n",
    "ax3.set_xlim(t1, t2)\n",
    "ax3.set_ylim(0, 800)\n",
    "\n",
    "# Liquid 2D\n",
    "liqgrow.plot.pcolormesh('time', 'z', ax=ax4, cbar_kwargs=dict(label='g m$^{-3}$ min$^{-1}$', orientation='horizontal'),\n",
    "                        vmin=-0.01, vmax=0.01, cmap='RdBu_r')\n",
    "ax4.set_xlabel(\"\")\n",
    "ax4.set_title(\"(d) OLI Liquid Growth\")\n",
    "\n",
    "ax4.set_xlim(t1, t2)\n",
    "ax4.set_ylim(0, 800)\n",
    "\n",
    "# Ice 2D\n",
    "p5 = icegrow.plot.pcolormesh('time', 'z', ax=ax5, cbar_kwargs=dict(label='g m$^{-3}$ min$^{-1}$', orientation='horizontal'),\n",
    "                             vmin=-.5e-3, vmax=.5e-3, cmap='RdBu_r')\n",
    "# cbar5 = plt.colorbar(p5, ax=ax5, label='g m$^{-3}$ min$^{-1}$', \n",
    "#                                 orientation='horizontal', \n",
    "# )\n",
    "# cbar5.formatter.set_powerlimits((0,0))\n",
    "ax5.set_xlabel(\"\")\n",
    "ax5.set_title(\"(e) OLI Ice Growth\")\n",
    "\n",
    "ax5.set_xlim(t1, t2)\n",
    "ax5.set_ylim(0, 800)\n",
    "\n",
    "# Turbulence\n",
    "turb.plot.pcolormesh('time', 'z', ax=ax6, cbar_kwargs=dict(label='m$^2$ s$^{-2}$', orientation='horizontal'))\n",
    "                     \n",
    "ax6.set_xlabel(\"\")\n",
    "ax6.set_title(\"(f) OLI $\\overline{w^\\prime w^\\prime}$\")\n",
    "\n",
    "ax6.set_xlim(t1, t2)\n",
    "ax6.set_ylim(0, 800)\n",
    "\n",
    "majorticks = ax6.get_xticks()\n",
    "majorticklabels = [a.strftime('%Hz') for a in mdates.num2date(majorticks)]\n",
    "\n",
    "for ax in (ax4, ax5, ax6):\n",
    "    ax.set_xticks(majorticks)\n",
    "    ticks = (np.asarray(mdates.num2date(ax.get_xticks())) - t).astype('timedelta64[h]').astype(int)\n",
    "    ax.set_xticklabels(ticks, rotation=0, ha='center')\n",
    "    ax.set_xlabel('Hours since aerosol removal')\n",
    "\n",
    "for ax in (ax1, ax2, ax3, ax4, ax5, ax6):\n",
    "    ax.axvline(data.time[0].values + np.timedelta64(6, 'h'), color='red', linestyle='dashed')\n",
    "\n",
    "plt.savefig('fig07.png', facecolor='w', dpi=300)"
   ]
  },
  {
   "cell_type": "code",
   "execution_count": null,
   "id": "91ddb120-e3a3-41b3-a109-f7c28b085d80",
   "metadata": {},
   "outputs": [],
   "source": []
  }
 ],
 "metadata": {
  "kernelspec": {
   "display_name": "Python 3 (ipykernel)",
   "language": "python",
   "name": "python3"
  },
  "language_info": {
   "codemirror_mode": {
    "name": "ipython",
    "version": 3
   },
   "file_extension": ".py",
   "mimetype": "text/x-python",
   "name": "python",
   "nbconvert_exporter": "python",
   "pygments_lexer": "ipython3",
   "version": "3.8.12"
  }
 },
 "nbformat": 4,
 "nbformat_minor": 5
}
