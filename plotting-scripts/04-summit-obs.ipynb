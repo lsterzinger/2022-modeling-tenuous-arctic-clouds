{
 "cells": [
  {
   "cell_type": "code",
   "execution_count": null,
   "id": "dfcaf333-a2c2-425a-ad0c-a1448dfd7cbd",
   "metadata": {
    "tags": []
   },
   "outputs": [],
   "source": [
    "import matplotlib.pyplot as plt\n",
    "from matplotlib.gridspec import GridSpec\n",
    "import matplotlib.dates as mdates\n",
    "import xarray as xr\n",
    "import numpy as np\n",
    "from metpy.calc import potential_temperature\n",
    "from metpy.units import units\n",
    "import pandas as pd\n",
    "from netCDF4 import Dataset\n",
    "import cartopy.crs as ccrs\n",
    "import cartopy.feature as cfeature\n",
    "from matplotlib.transforms import offset_copy\n",
    "from matplotlib.offsetbox import AnchoredText"
   ]
  },
  {
   "cell_type": "code",
   "execution_count": null,
   "id": "47e92304",
   "metadata": {},
   "outputs": [],
   "source": [
    "import warnings\n",
    "warnings.filterwarnings('ignore')"
   ]
  },
  {
   "cell_type": "code",
   "execution_count": null,
   "id": "d96fb49f-2419-409b-aa98-cfa2a38f758d",
   "metadata": {},
   "outputs": [],
   "source": [
    "SMALL_SIZE = 14\n",
    "MEDIUM_SIZE = 16\n",
    "BIGGER_SIZE = 18\n",
    "\n",
    "plt.rc('font', size=SMALL_SIZE)          # controls default text sizes\n",
    "plt.rc('axes', titlesize=SMALL_SIZE)     # fontsize of the axes title\n",
    "plt.rc('axes', labelsize=SMALL_SIZE)    # fontsize of the x and y labels\n",
    "plt.rc('xtick', labelsize=SMALL_SIZE)    # fontsize of the tick labels\n",
    "plt.rc('ytick', labelsize=SMALL_SIZE)    # fontsize of the tick labels\n",
    "plt.rc('legend', fontsize=SMALL_SIZE)    # legend fontsize\n",
    "# plt.rc('colorbar', fontsize=12)\n",
    "plt.rc('figure', titlesize=BIGGER_SIZE)  # fontsize of the figure title"
   ]
  },
  {
   "cell_type": "markdown",
   "id": "1e3172df-4561-4933-9539-e489511fb684",
   "metadata": {},
   "source": [
    "# Obs Data"
   ]
  },
  {
   "cell_type": "code",
   "execution_count": null,
   "id": "ca645d23-47bd-4a65-926f-a6ed6d1331d2",
   "metadata": {
    "tags": []
   },
   "outputs": [],
   "source": [
    "smt_ccn = xr.open_dataset(\"../data/obs/SMT/ace-cpc_summit_201907_aerosol-concentration_v1.nc\")[\"number_concentration_of_ambient_aerosol_particles_in_air\"]\n",
    "smt_snd = xr.open_dataset(\"../data/obs/SMT/smtsondewnpnX1.b1.20190701.231609.cdf.nc\")\n",
    "smt_rad = xr.open_dataset('../data/obs/SMT/summit_radar.nc')\n"
   ]
  },
  {
   "cell_type": "markdown",
   "id": "cd3f5c99-edd0-4283-943b-d77b3df3fe27",
   "metadata": {
    "tags": []
   },
   "source": [
    "# Reanalysis data"
   ]
  },
  {
   "cell_type": "code",
   "execution_count": null,
   "id": "8f95074c-611a-4679-8c59-a76940a6f629",
   "metadata": {},
   "outputs": [],
   "source": [
    "class Location:\n",
    "    def __init__(self, name, lat, lon):\n",
    "        self.name = name\n",
    "        self.lat = lat\n",
    "        self.lon = lon\n"
   ]
  },
  {
   "cell_type": "code",
   "execution_count": null,
   "id": "9f508cdc-3a75-4653-935e-bca0e94032e5",
   "metadata": {},
   "outputs": [],
   "source": [
    "loc = Location('SMT', 72.6, -38.5)"
   ]
  },
  {
   "cell_type": "code",
   "execution_count": null,
   "id": "83185e2c-22d7-4593-bb88-5d15f267c2df",
   "metadata": {},
   "outputs": [],
   "source": [
    "centlat, centlon = loc.lat, loc.lon\n",
    "lat1, lat2 = centlat - 40, 90\n",
    "lon1, lon2 = centlon + 360 -50, centlon + 360 + 50"
   ]
  },
  {
   "cell_type": "code",
   "execution_count": null,
   "id": "2d2a0e94-3c0b-4ce0-86b4-3ad0bee9fb13",
   "metadata": {},
   "outputs": [],
   "source": [
    "data_mslp = xr.open_dataset('../data/obs/SMT/e5.oper.an.sfc.128_151_msl.ll025sc.2019070100_2019073123.nc')\n",
    "data_temp = xr.open_dataset('../data/obs/SMT/e5.oper.an.sfc.128_167_2t.ll025sc.2019070100_2019073123.nc')"
   ]
  },
  {
   "cell_type": "code",
   "execution_count": null,
   "id": "f070a216-db4e-4137-acea-28a355ab2366",
   "metadata": {},
   "outputs": [],
   "source": [
    "# subset = dict(latitude=slice(lat2, lat1), longitude=slice(lon1, lon2), time=np.datetime64('2017-05-12T09:00:00'))\n",
    "subset = dict(time=np.datetime64('2019-07-02T06:00:00'), latitude=slice(lat2, lat1))\n"
   ]
  },
  {
   "cell_type": "code",
   "execution_count": null,
   "id": "b8f9ef5b-34d4-4315-af96-c072e4825801",
   "metadata": {},
   "outputs": [],
   "source": [
    "mslp = data_mslp.MSL.sel(**subset)/ 100\n",
    "temp = data_temp.VAR_2T.sel(**subset) "
   ]
  },
  {
   "cell_type": "code",
   "execution_count": null,
   "id": "1a99a4c4-631e-4616-982e-01be51c4ac83",
   "metadata": {},
   "outputs": [],
   "source": [
    "plev = np.arange(700, 1100, 4)"
   ]
  },
  {
   "cell_type": "code",
   "execution_count": null,
   "id": "db51bbda-5c91-4527-a42c-8f7531234507",
   "metadata": {},
   "outputs": [],
   "source": [
    "stime = pd.to_datetime(mslp.time.values).strftime('%Y-%m-%d %Hz')"
   ]
  },
  {
   "cell_type": "markdown",
   "id": "4440138f-db5b-41ff-96cf-bc93d34424e6",
   "metadata": {
    "tags": []
   },
   "source": [
    "# Plotting"
   ]
  },
  {
   "cell_type": "code",
   "execution_count": null,
   "id": "42c9cfd6-d7cb-4b5f-8dde-6e85e18a9ae2",
   "metadata": {},
   "outputs": [],
   "source": [
    "t1 = np.datetime64(\"2019-07-01T22:00:00\")\n",
    "t2 = np.datetime64(\"2019-07-03T00:00:00\")\n",
    "snd_time = smt_snd.time[0].values\n",
    "\n",
    "fig = plt.figure(constrained_layout=True, figsize=(10,6))\n",
    "\n",
    "gs = GridSpec(\n",
    "    2, 3, figure=fig, \n",
    "    height_ratios=[3,1], width_ratios=[1,4,3],\n",
    "    # hspace=.01, wspace=.01\n",
    ")\n",
    "ax1 = fig.add_subplot(gs[0,0])\n",
    "axl = fig.add_subplot(gs[1,0])\n",
    "ax2 = fig.add_subplot(gs[0,1])\n",
    "ax3 = fig.add_subplot(gs[1,1])\n",
    "ax4 = fig.add_subplot(gs[0,2], projection=ccrs.LambertConformal(central_latitude=centlat, central_longitude=centlon))\n",
    "\n",
    "smt_theta = potential_temperature(smt_snd.pres * units[\"hPa\"], smt_snd.tdry * units[\"degC\"])\n",
    "\n",
    "p1 = ax1.plot(smt_theta, smt_snd.alt - 3216, label='$\\\\theta$')\n",
    "# p3 = ax1.plot(greenland_model_theta, greenland_model_heights, color='C0', linestyle='dashed')\n",
    "\n",
    "# ax1.set_ylim(3216, 4816)\n",
    "ax1.set_xlim(290, 300)\n",
    "ax1.set_xlabel(\"$\\\\theta$ [K]\")\n",
    "ax1.set_title(\"a) Sounding\")\n",
    "ax1.set_ylim(0, 1500)\n",
    "\n",
    "axrh = ax1.twiny()\n",
    "p2 = axrh.plot(smt_snd.rh, smt_snd.alt - 3216, color='g', label='RH')\n",
    "axrh.set_xlabel('RH [%]')\n",
    "\n",
    "lns = p1 + p2\n",
    "labs = [l.get_label() for l in lns]\n",
    "axl.legend(lns, labs, loc='upper center')\n",
    "axl.spines['top'].set_visible(False)\n",
    "axl.spines['right'].set_visible(False)\n",
    "axl.spines['bottom'].set_visible(False)\n",
    "axl.spines['left'].set_visible(False)\n",
    "axl.get_xaxis().set_ticks([])\n",
    "axl.get_yaxis().set_ticks([])\n",
    "\n",
    "ax1.set_ylabel('Height AGL [m]')\n",
    "\n",
    "rad = smt_rad.refl_mode1.where(smt_rad.refl_mode1 >= -40).sel({'time':slice(t1,t2)}).plot.pcolormesh(\n",
    "    ax=ax2, x='time', y='height',  \n",
    "    shading=\"auto\", vmin=-40, vmax=10, \n",
    "    add_colorbar=False, add_labels=False\n",
    ")\n",
    "\n",
    "# ax2.sharey(ax1)\n",
    "# ax2.sharex(ax3)\n",
    "ax2.set_ylim(0, 1500)\n",
    "# ax2.set_yticklabels([])\n",
    "plt.colorbar(rad, ax=ax2, label='dBz')\n",
    "ax2.set_title(\"b) MMCR\")\n",
    "# ax2.set_ylabel('Height [m]')\n",
    "ax2.set_xticklabels([\"\"])\n",
    "ax2.set_yticklabels([\"\"])\n",
    "# ax2.xaxis.set_major_formatter(mdates.DateFormatter(\"%Hz\"))\n",
    "# ax2.sharex(ax3)\n",
    "ax2.axvline(snd_time, color='k', linestyle='dashed')\n",
    "\n",
    "smt_ccn.sel(dict(time = slice(t1,t2))).plot(ax=ax3, yscale='log')\n",
    "# ax3.sharex(ax2)\n",
    "ax3.set_xlim(t1, t2)\n",
    "ax3.set_title(\"c) Sfc Aerosol Concentration\")\n",
    "# ax3.set_xticklabels(ax3.get_xticks(), rotation=45, ha=\"right\")\n",
    "ax3.xaxis.set_major_formatter(mdates.DateFormatter('%Hz'))\n",
    "ax3.set_ylabel('cm$^{-3}$')\n",
    "ax3.set_xlabel(\"\")\n",
    "ax3.set_yticks([10, 100, 1000])\n",
    "ax3.axhline(10, color='k')\n",
    "ax3.axvline(snd_time, color='k', linestyle='dashed')\n",
    "\n",
    "# Synoptic plot\n",
    "cartopy_transform = ccrs.PlateCarree()._as_mpl_transform(ax4)\n",
    "text_transform = offset_copy(cartopy_transform, units='dots', x=-15)\n",
    "ax4.set_extent((lon1, lon2, lat1, lat2))\n",
    "\n",
    "t = ax4.pcolormesh(temp.longitude, temp.latitude, temp, transform=ccrs.PlateCarree(), cmap='jet')\n",
    "p = ax4.contour(mslp.longitude, mslp.latitude, mslp, transform=ccrs.PlateCarree(), colors='k', levels=plev)\n",
    "\n",
    "ax4.clabel(p, inline=True,zorder=1)\n",
    "\n",
    "text_kwargs = dict(verticalalignment='center', horizontalalignment='right', transform=text_transform,\n",
    "        bbox={\n",
    "            'facecolor':'aqua',\n",
    "            'alpha' : 1,\n",
    "            'boxstyle' : 'round',\n",
    "            'zorder':10\n",
    "        }\n",
    ")\n",
    "ax4.plot(loc.lon, loc.lat, marker='o', color='red', markersize=12, transform=ccrs.PlateCarree())\n",
    "ax4.text(loc.lon, loc.lat, loc.name, **text_kwargs)\n",
    "\n",
    "ax4.coastlines(color='k', linewidth=2)\n",
    "ax4.set_title(f\"d) {loc.name} Synoptic Overview\\n{stime}\")\n",
    "\n",
    "text = AnchoredText('© Natural Earth; license: public domain',\n",
    "                    loc=4, prop={'size': 8}, frameon=True)\n",
    "ax4.add_artist(text)\n",
    "\n",
    "plt.suptitle(\"Summit Station\\n2019-07-02\")\n",
    "\n",
    "plt.draw()\n",
    "posn = ax4.get_position()\n",
    "cbar_ax = fig.add_axes([0, 0, 0.1, 0.1])\n",
    "cbar_ax.set_position([posn.x0 + posn.width + 0.01, posn.y0, 0.01, posn.height])\n",
    "\n",
    "plt.colorbar(t, label='Temperature [K]', cax=cbar_ax)\n",
    "\n",
    "\n",
    "\n",
    "# plt.suptitle(\"c) Greenland\\n2019-07-02\",fontweight=\"bold\")\n",
    "plt.savefig('./obs_greenland.png', facecolor='w')"
   ]
  },
  {
   "cell_type": "code",
   "execution_count": null,
   "id": "704275c8",
   "metadata": {},
   "outputs": [],
   "source": []
  }
 ],
 "metadata": {
  "kernelspec": {
   "display_name": "Python 3 (ipykernel)",
   "language": "python",
   "name": "python3"
  },
  "language_info": {
   "codemirror_mode": {
    "name": "ipython",
    "version": 3
   },
   "file_extension": ".py",
   "mimetype": "text/x-python",
   "name": "python",
   "nbconvert_exporter": "python",
   "pygments_lexer": "ipython3",
   "version": "3.8.12"
  }
 },
 "nbformat": 4,
 "nbformat_minor": 5
}
