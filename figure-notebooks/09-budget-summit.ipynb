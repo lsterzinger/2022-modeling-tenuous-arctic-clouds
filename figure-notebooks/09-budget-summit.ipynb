{
 "cells": [
  {
   "cell_type": "code",
   "execution_count": null,
   "id": "4059dcc5-8d97-4444-a761-0b71e61d635f",
   "metadata": {},
   "outputs": [],
   "source": [
    "import xarray as xr\n",
    "import matplotlib.pyplot as plt\n",
    "import numpy as np\n",
    "from glob import glob\n",
    "import matplotlib.dates as mdates\n",
    "from datetime import datetime, timezone"
   ]
  },
  {
   "cell_type": "code",
   "execution_count": null,
   "id": "c95e1e65-0395-4ba5-b24a-baaa23fc358a",
   "metadata": {},
   "outputs": [],
   "source": [
    "data = xr.open_dataset('../data/model/summit.nc')"
   ]
  },
  {
   "cell_type": "code",
   "execution_count": null,
   "id": "f1da5934-66f0-40a3-b435-a4091d0214ac",
   "metadata": {},
   "outputs": [],
   "source": [
    "dn0 = data.DN0.load()\n",
    "raincond = ((data.VAPRAINT + data.VAPDRIZT) * dn0 * 1e3 / 5.0).integrate('z').load()\n",
    "cldcond = ((data.NUCCLDRT + data.VAPCLDT) * dn0 * 1e3 / 5.0).integrate('z').load()\n",
    "icecond = ((data.VAPICET + data.NUCICERT) * dn0 * 1e3 / 5.0).integrate('z').load()\n",
    "melt = (data.MELTICET * dn0 * 1e3 / 5.0).integrate('z').load()\n",
    "freeze = ((data.INUCHOMRT + data.INUCCONTRT + data.INUCIFNRT) * dn0 * 1e3/5.0).integrate('z').load()\n",
    "rime = ((data.RIMECLDT + data.RAIN2ICET) * dn0 * 1e3 / 5.0).integrate('z').load()\n",
    "liqsed = (data.ACCPR + data.ACCPD).diff('time').load() * 1e3 / 5.0\n",
    "icesed = (data.ACCPP + data.ACCPS + data.ACCPA + data.ACCPG + data.ACCPH).diff('time').load() * 1e3 / 5.0\n",
    "radheat =  data.FTHRD[2:,:].load() * 3600\n",
    "turb = xr.open_dataset('../data/model/smt_vert_momentum_flux.nc')[\"WC\"][2:,:]"
   ]
  },
  {
   "cell_type": "code",
   "execution_count": null,
   "id": "dfcfe73f-f7b9-4b35-8eac-dd42d75bdc1b",
   "metadata": {},
   "outputs": [],
   "source": [
    "t1 = data.time[0].values + np.timedelta64(3, 'h')\n",
    "t2 = t1 + np.timedelta64(9,'h')"
   ]
  },
  {
   "cell_type": "code",
   "execution_count": null,
   "id": "59d98032-3654-4937-ab33-ebe4c62ff9c1",
   "metadata": {},
   "outputs": [],
   "source": [
    "liqgrow = (data.NUCCLDRT + data.VAPLIQT)[2:].load() / 5 * dn0[2:] * 1e3\n",
    "icegrow = (data.NUCICERT + data.VAPICET)[2:].load() / 5 * dn0[2:] * 1e3"
   ]
  },
  {
   "cell_type": "code",
   "execution_count": null,
   "id": "40e72135-8c9c-4f76-b979-386268d0a634",
   "metadata": {},
   "outputs": [],
   "source": [
    "import pandas as pd"
   ]
  },
  {
   "cell_type": "code",
   "execution_count": null,
   "id": "2b9a6440-483d-4866-9bd2-961e4c3c63cb",
   "metadata": {},
   "outputs": [],
   "source": [
    "SMALL_SIZE = 14\n",
    "MEDIUM_SIZE = 16\n",
    "BIGGER_SIZE = 18\n",
    "\n",
    "plt.rc('font', size=SMALL_SIZE)          # controls default text sizes\n",
    "plt.rc('axes', titlesize=SMALL_SIZE)     # fontsize of the axes title\n",
    "plt.rc('axes', labelsize=SMALL_SIZE)    # fontsize of the x and y labels\n",
    "plt.rc('xtick', labelsize=SMALL_SIZE)    # fontsize of the tick labels\n",
    "plt.rc('ytick', labelsize=SMALL_SIZE)    # fontsize of the tick labels\n",
    "plt.rc('legend', fontsize=12)    # legend fontsize\n",
    "# plt.rc('colorbar', fontsize=12)\n",
    "plt.rc('figure', titlesize=BIGGER_SIZE)  # fontsize of the figure title"
   ]
  },
  {
   "cell_type": "code",
   "execution_count": null,
   "id": "8131639a-3d61-47cb-89b1-fb299e6e80d1",
   "metadata": {},
   "outputs": [],
   "source": [
    "t = datetime(2019, 7, 2, 6, 0, tzinfo=timezone.utc)"
   ]
  },
  {
   "cell_type": "code",
   "execution_count": null,
   "id": "41270585-6ac3-42a8-add7-41130270a02c",
   "metadata": {},
   "outputs": [],
   "source": [
    "fig, ((ax1, ax2, ax3), (ax4, ax5, ax6)) = plt.subplots(2,3, figsize=(13,8), sharex='col', \n",
    "                                                        constrained_layout=True)\n",
    "# Liquid Budget\n",
    "raincond[2:].plot(label='Rain', color='C0', ax=ax1)\n",
    "cldcond[2:].plot(label='Cloud', color='C3', ax=ax1)\n",
    "\n",
    "(-1*liqsed[2:]).plot(label='Precip', color='C1', ax=ax1)\n",
    "(-1*rime[2:]).plot(label='Riming', color='C2', ax=ax1)\n",
    "\n",
    "ax1.axhline(0, color='k')\n",
    "# ax1.axvline(data.time[0].values + np.timedelta64(6,'h'), color='red', linestyle='dashed')\n",
    "ax1.set_title(\"(a) SMT Liquid Budget\")\n",
    "ax1.set_ylabel(\"g m$^{-2}$ min$^{-1}$\")\n",
    "ax1.set_xlabel(\"\")\n",
    "ax1.legend(loc='lower right', framealpha=0.5)\n",
    "\n",
    "ax1.set_xlim(t1, t2)\n",
    "\n",
    "# Ice Budget\n",
    "icecond[2:].plot(label='Cond.', ax=ax2)\n",
    "(-1*icesed[2:]).plot(label='Precip', ax=ax2)\n",
    "(rime[2:]).plot(label='Riming', ax=ax2)\n",
    "ax2.legend(loc='upper right', framealpha=0.5)\n",
    "\n",
    "\n",
    "ax2.axhline(0, color='k')\n",
    "# ax2.axvline(data.time[0].values + np.timedelta64(6,'h'), color='red', linestyle='dashed')\n",
    "ax2.set_title(\"(b) SMT Ice Budget\")\n",
    "ax2.set_ylabel(\"g m$^{-2}$ min$^{-1}$\")\n",
    "ax2.set_xlabel(\"\")\n",
    "\n",
    "ax2.set_xlim(t1, t2)\n",
    "\n",
    "# Radiative cooling\n",
    "radheat.plot.pcolormesh('time', 'z', ax=ax3, cbar_kwargs=dict(label='K hr$^{-1}$', orientation='vertical'))\n",
    "ax3.set_xlabel(\"\")\n",
    "ax3.set_title(\"(c) SMT Radiative heating\")\n",
    "\n",
    "ax3.set_xlim(t1, t2)\n",
    "\n",
    "# Liquid 2D\n",
    "p4 = liqgrow.plot.pcolormesh('time', 'z', ax=ax4, \n",
    "                        cbar_kwargs=dict(label='g m$^{-3}$ min$^{-1}$', orientation='horizontal'),\n",
    "                        vmin=-.007, vmax=0.007, cmap='RdBu_r'\n",
    ")\n",
    "ax4.set_xlabel(\"\")\n",
    "ax4.set_title(\"(d) SMT Liquid Growth\")\n",
    "cb = p4.colorbar\n",
    "cb.formatter.set_powerlimits((0, 0))\n",
    "\n",
    "ax4.set_xlim(t1, t2)\n",
    "\n",
    "# Ice 2D\n",
    "p5 = icegrow.plot.pcolormesh('time', 'z', ax=ax5, add_colorbar=True, \n",
    "                            vmin=-1.3e-3, vmax=1.3e-3, cmap='RdBu_r',\n",
    "                            cbar_kwargs = dict(label='g m$^{-3}$ min$^{-1}$', orientation='horizontal',)\n",
    ")\n",
    "# cbar5 = plt.colorbar(p5, ax=ax5, label='g m$^{-3}$ min$^{-1}$', \n",
    "#                      orientation='horizontal'\n",
    "# )\n",
    "# cbar5.formatter.set_powerlimits((0,0))\n",
    "ax5.set_xlabel(\"\")\n",
    "ax5.set_title(\"(e) SMT Ice Growth\")\n",
    "cb = p5.colorbar\n",
    "cb.formatter.set_powerlimits((0, 0))\n",
    "\n",
    "ax5.set_xlim(t1, t2)\n",
    "\n",
    "# Turbulence\n",
    "turb.plot.pcolormesh('time', 'z', ax=ax6, cbar_kwargs=dict(label='m$^2$ s$^{-2}$', orientation='horizontal'))\n",
    "ax6.set_xlabel(\"\")\n",
    "ax6.set_title(\"(f) SMT $\\overline{w^\\prime w^\\prime}$\")\n",
    "\n",
    "ax6.set_xlim(t1, t2)\n",
    "\n",
    "majorticks = ax6.get_xticks()\n",
    "# majorticklabels = [a.strftime('%Hz') for a in mdates.num2date(majorticks)]\n",
    "\n",
    "for ax in (ax4, ax5, ax6):\n",
    "    ax.set_xticks(majorticks)\n",
    "    ticks = (np.asarray(mdates.num2date(ax.get_xticks())) - t).astype('timedelta64[h]').astype(int)\n",
    "    ax.set_xticklabels(ticks, rotation=0, ha='center')\n",
    "    ax.set_xlabel('Hours since aerosol removal')\n",
    "\n",
    "for ax in (ax1, ax2, ax3, ax4, ax5, ax6):\n",
    "    ax.axvline(data.time[0].values + np.timedelta64(6, 'h'), color='red', linestyle='dashed')\n",
    "\n",
    "plt.savefig('fig09.png', facecolor='w', dpi=300)"
   ]
  },
  {
   "cell_type": "code",
   "execution_count": null,
   "id": "085d3929-0837-4c66-9cfb-d7a2d10b06d7",
   "metadata": {},
   "outputs": [],
   "source": []
  }
 ],
 "metadata": {
  "kernelspec": {
   "display_name": "Python 3 (ipykernel)",
   "language": "python",
   "name": "python3"
  },
  "language_info": {
   "codemirror_mode": {
    "name": "ipython",
    "version": 3
   },
   "file_extension": ".py",
   "mimetype": "text/x-python",
   "name": "python",
   "nbconvert_exporter": "python",
   "pygments_lexer": "ipython3",
   "version": "3.10.4"
  }
 },
 "nbformat": 4,
 "nbformat_minor": 5
}
