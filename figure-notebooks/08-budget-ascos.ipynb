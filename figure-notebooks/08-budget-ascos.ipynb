{
 "cells": [
  {
   "cell_type": "code",
   "execution_count": null,
   "id": "7a2ccc82-c240-414b-a2ac-bdba13785ff9",
   "metadata": {
    "tags": []
   },
   "outputs": [],
   "source": [
    "import xarray as xr\n",
    "import matplotlib.pyplot as plt\n",
    "import numpy as np\n",
    "from glob import glob\n",
    "import matplotlib.dates as mdates\n",
    "from datetime import datetime, timezone"
   ]
  },
  {
   "cell_type": "code",
   "execution_count": null,
   "id": "c95e1e65-0395-4ba5-b24a-baaa23fc358a",
   "metadata": {},
   "outputs": [],
   "source": [
    "data = xr.open_dataset('../data/model/ascos.nc')"
   ]
  },
  {
   "cell_type": "code",
   "execution_count": null,
   "id": "f1da5934-66f0-40a3-b435-a4091d0214ac",
   "metadata": {},
   "outputs": [],
   "source": [
    "dn0 = data.DN0.load()\n",
    "raincond = ((data.VAPRAINT + data.VAPDRIZT) * dn0 * 1e3 / 5.0).integrate('z').load()\n",
    "cldcond = ((data.NUCCLDRT + data.VAPCLDT) * dn0 * 1e3 / 5.0).integrate('z').load()\n",
    "icecond = ((data.VAPICET + data.NUCICERT) * dn0 * 1e3 / 5.0).integrate('z').load()\n",
    "melt = (data.MELTICET * dn0 * 1e3 / 5.0).integrate('z').load()\n",
    "freeze = ((data.INUCHOMRT + data.INUCCONTRT + data.INUCIFNRT) * dn0 * 1e3/5.0).integrate('z').load()\n",
    "rime = ((data.RIMECLDT + data.RAIN2ICET) * dn0 * 1e3 / 5.0).integrate('z').load()\n",
    "liqsed = (data.ACCPR + data.ACCPD).diff('time').load() * 1e3 / 5.0\n",
    "icesed = (data.ACCPP + data.ACCPS + data.ACCPA + data.ACCPG + data.ACCPH).diff('time').load() * 1e3 / 5.0\n",
    "radheat =  data.FTHRD[2:,:].load() * 3600\n",
    "turb = xr.open_dataset('../data/model/ascos_vert_momentum_flux.nc')[\"WSQUARED\"][2:,:]"
   ]
  },
  {
   "cell_type": "code",
   "execution_count": null,
   "id": "09ecabf1",
   "metadata": {},
   "outputs": [],
   "source": [
    "\n",
    "t1 = data.time[0].values + np.timedelta64(3, 'h')\n",
    "t2 = t1 + np.timedelta64(9,'h')"
   ]
  },
  {
   "cell_type": "code",
   "execution_count": null,
   "id": "ebbcc5e4-356d-4468-8b34-a6144ab16e2c",
   "metadata": {},
   "outputs": [],
   "source": [
    "liqgrow = (data.NUCCLDRT + data.VAPLIQT)[2:].load() / 5 * dn0[2:] * 1e3\n",
    "icegrow = (data.NUCICERT + data.VAPICET)[2:].load() / 5 * dn0[2:] * 1e3"
   ]
  },
  {
   "cell_type": "code",
   "execution_count": null,
   "id": "8afe282b-c6f8-49b8-a775-bc05f6f8f373",
   "metadata": {},
   "outputs": [],
   "source": [
    "import pandas as pd"
   ]
  },
  {
   "cell_type": "code",
   "execution_count": null,
   "id": "a94dd217-59bd-4a4f-a1f9-ad0233844a47",
   "metadata": {},
   "outputs": [],
   "source": [
    "SMALL_SIZE = 14\n",
    "MEDIUM_SIZE = 16\n",
    "BIGGER_SIZE = 18\n",
    "\n",
    "plt.rc('font', size=SMALL_SIZE)          # controls default text sizes\n",
    "plt.rc('axes', titlesize=SMALL_SIZE)     # fontsize of the axes title\n",
    "plt.rc('axes', labelsize=SMALL_SIZE)    # fontsize of the x and y labels\n",
    "plt.rc('xtick', labelsize=SMALL_SIZE)    # fontsize of the tick labels\n",
    "plt.rc('ytick', labelsize=SMALL_SIZE)    # fontsize of the tick labels\n",
    "plt.rc('legend', fontsize=10)    # legend fontsize\n",
    "# plt.rc('colorbar', fontsize=12)\n",
    "plt.rc('figure', titlesize=BIGGER_SIZE)  # fontsize of the figure title"
   ]
  },
  {
   "cell_type": "code",
   "execution_count": null,
   "id": "1829189f-85dc-4818-90a5-3712f48fbe80",
   "metadata": {},
   "outputs": [],
   "source": [
    "t = datetime(2008, 8, 31, 6, 0, tzinfo=timezone.utc)"
   ]
  },
  {
   "cell_type": "code",
   "execution_count": null,
   "id": "257ee469-4880-4af5-9b41-4a97bacddb60",
   "metadata": {},
   "outputs": [],
   "source": [
    "fig, ((ax1, ax2, ax3), (ax4, ax5, ax6)) = plt.subplots(2,3, figsize=(10,6), sharex='col', \n",
    "                                                        constrained_layout=True)\n",
    "# Liquid Budget\n",
    "raincond[2:].plot(label='Rain', color='C0', ax=ax1)\n",
    "cldcond[2:].plot(label='Cloud', color='C3', ax=ax1)\n",
    "\n",
    "(-1*liqsed[2:]).plot(label='Precip', color='C1', ax=ax1)\n",
    "(-1*rime[2:]).plot(label='Riming', color='C2', ax=ax1)\n",
    "\n",
    "ax1.axhline(0, color='k')\n",
    "# ax1.axvline(data.time[0].values + np.timedelta64(6,'h'), color='red', linestyle='dashed')\n",
    "ax1.set_title(\"(a) ASCOS Liquid Budget\")\n",
    "ax1.set_ylabel(\"g m$^{-2}$ min$^{-1}$\")\n",
    "ax1.set_xlabel(\"\")\n",
    "ax1.legend(loc='upper right', framealpha=0.5)\n",
    "\n",
    "ax1.set_xlim(t1, t2)\n",
    "\n",
    "# Ice Budget\n",
    "icecond[2:].plot(label='Cond.', ax=ax2)\n",
    "(-1*icesed[2:]).plot(label='Precip', ax=ax2)\n",
    "(rime[2:]).plot(label='Riming', ax=ax2)\n",
    "ax2.legend(loc='lower right', framealpha=0.5)\n",
    "\n",
    "\n",
    "ax2.axhline(0, color='k')\n",
    "# ax2.axvline(data.time[0].values + np.timedelta64(6,'h'), color='red', linestyle='dashed')\n",
    "ax2.set_title(\"(b) ASCOS Ice Budget\")\n",
    "ax2.set_ylabel(\"g m$^{-2}$ min$^{-1}$\")\n",
    "ax2.set_xlabel(\"\")\n",
    "\n",
    "ax2.set_xlim(t1, t2)\n",
    "\n",
    "# Radiative cooling\n",
    "radheat.plot.pcolormesh('time', 'z', ax=ax3, cbar_kwargs=dict(label='K hr$^{-1}$', orientation='vertical'))\n",
    "ax3.set_xlabel(\"\")\n",
    "ax3.set_title(\"(c) ASCOS Radiative heating\")\n",
    "\n",
    "ax3.set_xlim(t1, t2)\n",
    "ax3.set_ylim(0, 1000)\n",
    "\n",
    "# Liquid 2D\n",
    "liqgrow.plot.pcolormesh('time', 'z', ax=ax4, cbar_kwargs=dict(label='g m$^{-3}$ min$^{-1}$', orientation='horizontal'))\n",
    "ax4.set_xlabel(\"\")\n",
    "ax4.set_title(\"(d) ASCOS Liquid Growth\")\n",
    "\n",
    "ax4.set_xlim(t1, t2)\n",
    "ax4.set_ylim(0, 1000)\n",
    "\n",
    "# Ice 2D\n",
    "p5 = icegrow.plot.pcolormesh('time', 'z', ax=ax5, add_colorbar=True, vmin=-1e-3, vmax=1e-3, cmap='RdBu_r',\n",
    "                             cbar_kwargs=dict(label='g m$^{-3}$ min$^{-1}$', orientation='horizontal')\n",
    ")\n",
    "# cbar5 = plt.colorbar(p5, ax=ax5, label='g m$^{-3}$ min$^{-1}$', \n",
    "#                                 orientation='horizontal', \n",
    "# )\n",
    "# cbar5.formatter.set_powerlimits((0,0))\n",
    "ax5.set_xlabel(\"\")\n",
    "ax5.set_title(\"(e) ASCOS Ice Growth\")\n",
    "\n",
    "ax5.set_xlim(t1, t2)\n",
    "ax5.set_ylim(0, 1000)\n",
    "\n",
    "# Turbulence\n",
    "turb.plot.pcolormesh('time', 'z', ax=ax6, cbar_kwargs=dict(label='m$^2$ s$^{-2}$', orientation='horizontal'))\n",
    "ax6.set_xlabel(\"\")\n",
    "ax6.set_title(\"(f) ASCOS $\\overline{w^\\prime w^\\prime}$\")\n",
    "\n",
    "ax6.set_xlim(t1, t2)\n",
    "ax6.set_ylim(0, 1000)\n",
    "\n",
    "majorticks = ax6.get_xticks()\n",
    "# majorticklabels = [a.strftime('%Hz') for a in mdates.num2date(majorticks)]\n",
    "\n",
    "for ax in (ax4, ax5, ax6):\n",
    "    ax.set_xticks(majorticks)\n",
    "    ticks = (np.asarray(mdates.num2date(ax.get_xticks())) - t).astype('timedelta64[h]').astype(int)\n",
    "    ax.set_xticklabels(ticks, rotation=0, ha='center')\n",
    "    ax.set_xlabel('Hours since aerosol removal')\n",
    "\n",
    "for ax in (ax1, ax2, ax3, ax4, ax5, ax6):\n",
    "    ax.axvline(data.time[0].values + np.timedelta64(6, 'h'), color='red', linestyle='dashed')\n",
    "\n",
    "plt.savefig('fig08.png', facecolor='w', dpi=300)"
   ]
  },
  {
   "cell_type": "code",
   "execution_count": null,
   "id": "0b4a2f9f-0c23-48f7-9677-feffc0d4de0a",
   "metadata": {},
   "outputs": [],
   "source": []
  },
  {
   "cell_type": "code",
   "execution_count": null,
   "id": "00801539-087a-40ef-a86a-0d47778f0576",
   "metadata": {},
   "outputs": [],
   "source": []
  }
 ],
 "metadata": {
  "kernelspec": {
   "display_name": "Python 3 (ipykernel)",
   "language": "python",
   "name": "python3"
  },
  "language_info": {
   "codemirror_mode": {
    "name": "ipython",
    "version": 3
   },
   "file_extension": ".py",
   "mimetype": "text/x-python",
   "name": "python",
   "nbconvert_exporter": "python",
   "pygments_lexer": "ipython3",
   "version": "3.8.13"
  }
 },
 "nbformat": 4,
 "nbformat_minor": 5
}
